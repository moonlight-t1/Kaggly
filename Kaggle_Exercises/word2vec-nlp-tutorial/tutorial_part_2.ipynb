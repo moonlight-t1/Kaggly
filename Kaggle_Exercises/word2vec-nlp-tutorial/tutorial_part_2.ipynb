{
 "cells": [
  {
   "cell_type": "markdown",
   "metadata": {
    "colab_type": "text",
    "id": "VDSCuhXAFTne"
   },
   "source": [
    "## Bag of Words Meets Bags of Popcorn\n",
    "\n",
    "# **튜토리얼 파트 2 Word Vectors**\n",
    "\n",
    "* 딥러닝 기법인 Word2Vec을 통해 단어를 벡터화 해본다. \n",
    "* t-SNE를 통해 벡터화 한 데이터를 시각화 해본다.\n",
    "* 딥러닝과 지도학습의 랜덤포레스트를 사용하는 하이브리드 방식을 사용한다.\n",
    "\n",
    "## **[1/3] 딥러닝 기법 Word2Vec 소개**\n",
    "\n",
    "### **Word2Vec(Word Embedding to Vector)**\n",
    "\n",
    "컴퓨터는 숫자만 인식할 수 있고 한글, 이미지는 바이너리 코드로 저장 된다.\n",
    "튜토리얼 파트1에서는  Bag of Word라는 개념을 사용해서 문자를 벡터화 하여 머신러닝 알고리즘이 이해할 수 있도록 벡터화 해주는 작업을 하였다.\n",
    "\n",
    "\n",
    "* one hot encoding(예 [0000001000]) 혹은 Bag of Word에서 vector size가 매우 크고 sparse 하므로 neural net 성능이 잘 나오지 않는다.\n",
    "* `주위 단어가 비슷하면 해당 단어의 의미는 유사하다` 라는 아이디어\n",
    "* 단어를 트레이닝 시킬 때 주위 단어를 label로 매치하여 최적화\n",
    "* 단어를 `의미를 내포한 dense vector`로 매칭 시키는 것\n",
    "\n",
    "* Word2Vec은 분산 된 텍스트 표현을 사용하여 개념 간 유사성을 본다. 예를 들어, 파리와 프랑스가 베를린과 독일이 (수도와 나라) 같은 방식으로 관련되어 있음을 이해한다.\n",
    "\n",
    "![word2vec](https://1.bp.blogspot.com/-Q7F8ulD6fC0/UgvnVCSGmXI/AAAAAAAAAbg/MCWLTYBufhs/s1600/image00.gif)\n",
    "이미지 출처 : https://opensource.googleblog.com/2013/08/learning-meaning-behind-words.html\n",
    "\n",
    "* 단어의 임베딩과정을 실시간으로 시각화 : [word embedding visual inspector](https://ronxin.github.io/wevi/)\n",
    "\n",
    "\n",
    "![CBOW와 Skip-Gram](https://i.imgur.com/yXY1LxV.png)\n",
    "출처 : https://arxiv.org/pdf/1301.3781.pdf\n",
    " Tomas Mikolov, Ilya Sutskever, Kai Chen, Greg Corrado, and Jeffrey Dean. Distributed Representations of Words and Phrases and their Compositionality. In Proceedings of NIPS, 2013.\n",
    "\n",
    "\n",
    "* CBOW와 Skip-Gram기법이 있다.\n",
    "\n",
    "    * CBOW(continuous bag-of-words)는 전체 텍스트로 하나의 단어를 예측하기 때문에 작은 데이터셋일 수록 유리하다.    \n",
    "    * 아래 예제에서 __ 에 들어갈 단어를 예측한다.\n",
    "<pre>\n",
    "1) __가 맛있다. \n",
    "2) __를 타는 것이 재미있다. \n",
    "3) 평소보다 두 __로 많이 먹어서 __가 아프다.\n",
    "</pre>\n",
    "\n",
    "    * Skip-Gram은 타겟 단어들로부터 원본 단어를 역으로 예측하는 것이다. CBOW와는 반대로 컨텍스트-타겟 쌍을 새로운 발견으로 처리하고 큰 규모의 데이터셋을 가질 때 유리하다.\n",
    "    * 특정한 단어인 `배`가 주어졌을 때 단어 주변에 올 수 있는 단어를 예측한다.\n",
    "    \n",
    "    <pre>\n",
    "    1) *배*가 맛있다. \n",
    "    2) *배*를 타는 것이 재미있다. \n",
    "    3) 평소보다 두 *배*로 많이 먹어서 *배*가 아프다.\n",
    "    </pre>\n",
    "\n",
    "\n",
    "\n",
    "## Word2Vec 참고자료\n",
    "\n",
    "* [word2vec 모델 · 텐서플로우 문서 한글 번역본](https://tensorflowkorea.gitbooks.io/tensorflow-kr/g3doc/tutorials/word2vec/)\n",
    "* [Word2Vec으로 문장 분류하기 · ratsgo's blog](https://ratsgo.github.io/natural%20language%20processing/2017/03/08/word2vec/)\n",
    "\n",
    "* [Efficient Estimation of Word Representations in\n",
    "Vector Space](https://arxiv.org/pdf/1301.3781v3.pdf)\n",
    "* [Distributed Representations of Words and Phrases and their Compositionality](http://papers.nips.cc/paper/5021-distributed-representations-of-words-and-phrases-and-their-compositionality.pdf)\n",
    "* [CS224n: Natural Language Processing with Deep Learning](http://web.stanford.edu/class/cs224n/syllabus.html)\n",
    "* [Word2Vec Tutorial - The Skip-Gram Model · Chris McCormick](http://mccormickml.com/2016/04/19/word2vec-tutorial-the-skip-gram-model/)\n",
    "\n",
    "## Gensim\n",
    "\n",
    "- Gensim을 사용해서 Word2Vec으로 단어를 벡터화 할 것이다. \n",
    "\n",
    "* [gensim: models.word2vec – Deep learning with word2vec](https://radimrehurek.com/gensim/models/word2vec.html)\n",
    "* [gensim: Tutorials](https://radimrehurek.com/gensim/tutorial.html)\n",
    "* [한국어와 NLTK, Gensim의 만남 - PyCon Korea 2015](https://www.lucypark.kr/docs/2015-pyconkr/)\n",
    "\n",
    "\n"
   ]
  },
  {
   "cell_type": "code",
   "execution_count": null,
   "metadata": {
    "colab": {},
    "colab_type": "code",
    "id": "Kw1HHyXLFTng"
   },
   "outputs": [],
   "source": [
    "# Warning을 뜨지 않도록 설정\n",
    "# 출력이 너무 길어지지 않게하기 위해 찍지 않도록 했으나 \n",
    "# 실제 학습 할 때는 아래 두 줄을 주석처리 하는 것을 권장한다.\n",
    "import warnings\n",
    "warnings.filterwarnings('ignore')"
   ]
  },
  {
   "cell_type": "code",
   "execution_count": 2,
   "metadata": {
    "colab": {
     "base_uri": "https://localhost:8080/",
     "height": 129
    },
    "colab_type": "code",
    "id": "ZSDJ6i3NFTno",
    "outputId": "d63d9364-8182-40c5-acc8-9519c565c599"
   },
   "outputs": [
    {
     "name": "stdout",
     "output_type": "stream",
     "text": [
      "(25000, 3)\n",
      "(25000, 2)\n",
      "(50000, 2)\n",
      "25000\n",
      "25000\n",
      "50000\n"
     ]
    }
   ],
   "source": [
    "# Pandas로 데이터를 불러온다\n",
    "\n",
    "import pandas as pd\n",
    "\n",
    "# 레이블인 sentiment 가 있는 학습 데이터\n",
    "train = pd.read_csv('https://raw.githubusercontent.com/corazzon/KaggleStruggle/master/word2vec-nlp-tutorial/data/labeledTrainData.tsv', delimiter='\\t', quoting=3)\n",
    "# 레이블이 없는 테스트 데이터\n",
    "test = pd.read_csv('https://raw.githubusercontent.com/corazzon/KaggleStruggle/master/word2vec-nlp-tutorial/data/testData.tsv', delimiter='\\t', quoting=3)\n",
    "\n",
    "unlabeled_train = pd.read_csv('https://raw.githubusercontent.com/corazzon/KaggleStruggle/master/word2vec-nlp-tutorial/data/unlabeledTrainData.tsv', \n",
    "                              header=0, delimiter='\\t', quoting=3)\n",
    "\n",
    "print(train.shape)\n",
    "print(test.shape)\n",
    "print(unlabeled_train.shape)\n",
    "\n",
    "print(train['review'].size)\n",
    "print(test['review'].size)\n",
    "print(unlabeled_train['review'].size)"
   ]
  },
  {
   "cell_type": "code",
   "execution_count": 3,
   "metadata": {
    "colab": {
     "base_uri": "https://localhost:8080/",
     "height": 206
    },
    "colab_type": "code",
    "id": "h0nahMsgFTnx",
    "outputId": "5b4759e4-c3ca-4372-c061-b8cd2210cbcb"
   },
   "outputs": [
    {
     "data": {
      "text/html": [
       "<div>\n",
       "<style scoped>\n",
       "    .dataframe tbody tr th:only-of-type {\n",
       "        vertical-align: middle;\n",
       "    }\n",
       "\n",
       "    .dataframe tbody tr th {\n",
       "        vertical-align: top;\n",
       "    }\n",
       "\n",
       "    .dataframe thead th {\n",
       "        text-align: right;\n",
       "    }\n",
       "</style>\n",
       "<table border=\"1\" class=\"dataframe\">\n",
       "  <thead>\n",
       "    <tr style=\"text-align: right;\">\n",
       "      <th></th>\n",
       "      <th>id</th>\n",
       "      <th>sentiment</th>\n",
       "      <th>review</th>\n",
       "    </tr>\n",
       "  </thead>\n",
       "  <tbody>\n",
       "    <tr>\n",
       "      <th>0</th>\n",
       "      <td>\"5814_8\"</td>\n",
       "      <td>1</td>\n",
       "      <td>\"With all this stuff going down at the moment ...</td>\n",
       "    </tr>\n",
       "    <tr>\n",
       "      <th>1</th>\n",
       "      <td>\"2381_9\"</td>\n",
       "      <td>1</td>\n",
       "      <td>\"\\\"The Classic War of the Worlds\\\" by Timothy ...</td>\n",
       "    </tr>\n",
       "    <tr>\n",
       "      <th>2</th>\n",
       "      <td>\"7759_3\"</td>\n",
       "      <td>0</td>\n",
       "      <td>\"The film starts with a manager (Nicholas Bell...</td>\n",
       "    </tr>\n",
       "    <tr>\n",
       "      <th>3</th>\n",
       "      <td>\"3630_4\"</td>\n",
       "      <td>0</td>\n",
       "      <td>\"It must be assumed that those who praised thi...</td>\n",
       "    </tr>\n",
       "    <tr>\n",
       "      <th>4</th>\n",
       "      <td>\"9495_8\"</td>\n",
       "      <td>1</td>\n",
       "      <td>\"Superbly trashy and wondrously unpretentious ...</td>\n",
       "    </tr>\n",
       "  </tbody>\n",
       "</table>\n",
       "</div>"
      ],
      "text/plain": [
       "         id  sentiment                                             review\n",
       "0  \"5814_8\"          1  \"With all this stuff going down at the moment ...\n",
       "1  \"2381_9\"          1  \"\\\"The Classic War of the Worlds\\\" by Timothy ...\n",
       "2  \"7759_3\"          0  \"The film starts with a manager (Nicholas Bell...\n",
       "3  \"3630_4\"          0  \"It must be assumed that those who praised thi...\n",
       "4  \"9495_8\"          1  \"Superbly trashy and wondrously unpretentious ..."
      ]
     },
     "execution_count": 3,
     "metadata": {
      "tags": []
     },
     "output_type": "execute_result"
    }
   ],
   "source": [
    "# train 데이터의 경우 sentiment(추천여부)가 있다.\n",
    "train.head()"
   ]
  },
  {
   "cell_type": "code",
   "execution_count": 4,
   "metadata": {
    "colab": {
     "base_uri": "https://localhost:8080/",
     "height": 206
    },
    "colab_type": "code",
    "id": "FjHWDCqxFTn4",
    "outputId": "31882f4f-e3da-4b39-b5d6-449d21d490e2"
   },
   "outputs": [
    {
     "data": {
      "text/html": [
       "<div>\n",
       "<style scoped>\n",
       "    .dataframe tbody tr th:only-of-type {\n",
       "        vertical-align: middle;\n",
       "    }\n",
       "\n",
       "    .dataframe tbody tr th {\n",
       "        vertical-align: top;\n",
       "    }\n",
       "\n",
       "    .dataframe thead th {\n",
       "        text-align: right;\n",
       "    }\n",
       "</style>\n",
       "<table border=\"1\" class=\"dataframe\">\n",
       "  <thead>\n",
       "    <tr style=\"text-align: right;\">\n",
       "      <th></th>\n",
       "      <th>id</th>\n",
       "      <th>review</th>\n",
       "    </tr>\n",
       "  </thead>\n",
       "  <tbody>\n",
       "    <tr>\n",
       "      <th>0</th>\n",
       "      <td>\"12311_10\"</td>\n",
       "      <td>\"Naturally in a film who's main themes are of ...</td>\n",
       "    </tr>\n",
       "    <tr>\n",
       "      <th>1</th>\n",
       "      <td>\"8348_2\"</td>\n",
       "      <td>\"This movie is a disaster within a disaster fi...</td>\n",
       "    </tr>\n",
       "    <tr>\n",
       "      <th>2</th>\n",
       "      <td>\"5828_4\"</td>\n",
       "      <td>\"All in all, this is a movie for kids. We saw ...</td>\n",
       "    </tr>\n",
       "    <tr>\n",
       "      <th>3</th>\n",
       "      <td>\"7186_2\"</td>\n",
       "      <td>\"Afraid of the Dark left me with the impressio...</td>\n",
       "    </tr>\n",
       "    <tr>\n",
       "      <th>4</th>\n",
       "      <td>\"12128_7\"</td>\n",
       "      <td>\"A very accurate depiction of small time mob l...</td>\n",
       "    </tr>\n",
       "  </tbody>\n",
       "</table>\n",
       "</div>"
      ],
      "text/plain": [
       "           id                                             review\n",
       "0  \"12311_10\"  \"Naturally in a film who's main themes are of ...\n",
       "1    \"8348_2\"  \"This movie is a disaster within a disaster fi...\n",
       "2    \"5828_4\"  \"All in all, this is a movie for kids. We saw ...\n",
       "3    \"7186_2\"  \"Afraid of the Dark left me with the impressio...\n",
       "4   \"12128_7\"  \"A very accurate depiction of small time mob l..."
      ]
     },
     "execution_count": 4,
     "metadata": {
      "tags": []
     },
     "output_type": "execute_result"
    }
   ],
   "source": [
    "# train에 있는 평점정보인 sentiment가 없다.\n",
    "test.head()"
   ]
  },
  {
   "cell_type": "code",
   "execution_count": 5,
   "metadata": {
    "colab": {
     "base_uri": "https://localhost:8080/",
     "height": 93,
     "resources": {
      "http://localhost:8080/nbextensions/google.colab/files.js": {
       "data": "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",
       "headers": [
        [
         "content-type",
         "application/javascript"
        ]
       ],
       "ok": true,
       "status": 200,
       "status_text": "OK"
      }
     }
    },
    "colab_type": "code",
    "id": "M0tLoDY3Mu0p",
    "outputId": "561d16ec-6830-4882-850d-df50036a9f46"
   },
   "outputs": [
    {
     "data": {
      "text/html": [
       "\n",
       "     <input type=\"file\" id=\"files-80d28c72-6145-4c3d-b944-70582b236c99\" name=\"files[]\" multiple disabled />\n",
       "     <output id=\"result-80d28c72-6145-4c3d-b944-70582b236c99\">\n",
       "      Upload widget is only available when the cell has been executed in the\n",
       "      current browser session. Please rerun this cell to enable.\n",
       "      </output>\n",
       "      <script src=\"/nbextensions/google.colab/files.js\"></script> "
      ],
      "text/plain": [
       "<IPython.core.display.HTML object>"
      ]
     },
     "metadata": {
      "tags": []
     },
     "output_type": "display_data"
    },
    {
     "name": "stdout",
     "output_type": "stream",
     "text": [
      "Saving KaggleWord2VecUtility.py to KaggleWord2VecUtility (1).py\n"
     ]
    },
    {
     "data": {
      "text/plain": [
       "3250"
      ]
     },
     "execution_count": 5,
     "metadata": {
      "tags": []
     },
     "output_type": "execute_result"
    }
   ],
   "source": [
    "# Colab에서 사용자 모듈 업로드\n",
    "from google.colab import files\n",
    "src = list(files.upload().values())[0]\n",
    "open('KaggleWord2VecUtility.py', 'wb').write(src)"
   ]
  },
  {
   "cell_type": "code",
   "execution_count": null,
   "metadata": {
    "colab": {},
    "colab_type": "code",
    "id": "P4wy4nx3FTn9"
   },
   "outputs": [],
   "source": [
    "# 텍스트 전처리를 위한 모듈\n",
    "from KaggleWord2VecUtility import KaggleWord2VecUtility"
   ]
  },
  {
   "cell_type": "code",
   "execution_count": 7,
   "metadata": {
    "colab": {
     "base_uri": "https://localhost:8080/",
     "height": 36
    },
    "colab_type": "code",
    "id": "_VSDf9ZQFToC",
    "outputId": "7d7e845d-d49c-4292-b5b3-f9c8bb7b966c"
   },
   "outputs": [
    {
     "data": {
      "text/plain": [
       "['with', 'all', 'this', 'stuff', 'go', 'down', 'at', 'the', 'moment', 'with']"
      ]
     },
     "execution_count": 7,
     "metadata": {
      "tags": []
     },
     "output_type": "execute_result"
    }
   ],
   "source": [
    "KaggleWord2VecUtility.review_to_wordlist(train['review'][0])[:10]"
   ]
  },
  {
   "cell_type": "code",
   "execution_count": 8,
   "metadata": {
    "colab": {
     "base_uri": "https://localhost:8080/",
     "height": 73
    },
    "colab_type": "code",
    "id": "na9Y8gqZN1i-",
    "outputId": "c8cce728-664c-4922-ec01-95b70a4434cc"
   },
   "outputs": [
    {
     "name": "stdout",
     "output_type": "stream",
     "text": [
      "[nltk_data] Downloading package punkt to /root/nltk_data...\n",
      "[nltk_data]   Package punkt is already up-to-date!\n"
     ]
    },
    {
     "data": {
      "text/plain": [
       "True"
      ]
     },
     "execution_count": 8,
     "metadata": {
      "tags": []
     },
     "output_type": "execute_result"
    }
   ],
   "source": [
    "import nltk\n",
    "nltk.download('punkt')"
   ]
  },
  {
   "cell_type": "code",
   "execution_count": null,
   "metadata": {
    "colab": {},
    "colab_type": "code",
    "id": "GNPfRdS5FToH"
   },
   "outputs": [],
   "source": [
    "# 데이터 정제\n",
    "sentences = []\n",
    "for review in train[\"review\"]:\n",
    "    sentences += KaggleWord2VecUtility.review_to_sentences(\n",
    "        review, remove_stopwords=False)"
   ]
  },
  {
   "cell_type": "code",
   "execution_count": null,
   "metadata": {
    "colab": {},
    "colab_type": "code",
    "id": "lOOALxoNFToM"
   },
   "outputs": [],
   "source": [
    "for review in unlabeled_train[\"review\"]:\n",
    "    sentences += KaggleWord2VecUtility.review_to_sentences(\n",
    "        review, remove_stopwords=False)"
   ]
  },
  {
   "cell_type": "code",
   "execution_count": 11,
   "metadata": {
    "colab": {
     "base_uri": "https://localhost:8080/",
     "height": 36
    },
    "colab_type": "code",
    "id": "lIyes04mFToP",
    "outputId": "fcb1c9e6-d7e4-448e-c134-08f53269a74a"
   },
   "outputs": [
    {
     "data": {
      "text/plain": [
       "795538"
      ]
     },
     "execution_count": 11,
     "metadata": {
      "tags": []
     },
     "output_type": "execute_result"
    }
   ],
   "source": [
    "len(sentences)"
   ]
  },
  {
   "cell_type": "code",
   "execution_count": 12,
   "metadata": {
    "colab": {
     "base_uri": "https://localhost:8080/",
     "height": 36
    },
    "colab_type": "code",
    "id": "SbZO0UXCFToU",
    "outputId": "56aca290-fd5d-4be0-f115-1136d34f61f9"
   },
   "outputs": [
    {
     "data": {
      "text/plain": [
       "['with', 'all', 'this', 'stuff', 'go', 'down', 'at', 'the', 'moment', 'with']"
      ]
     },
     "execution_count": 12,
     "metadata": {
      "tags": []
     },
     "output_type": "execute_result"
    }
   ],
   "source": [
    "# 정제된 데이터 확인\n",
    "sentences[0][:10]"
   ]
  },
  {
   "cell_type": "code",
   "execution_count": 13,
   "metadata": {
    "colab": {
     "base_uri": "https://localhost:8080/",
     "height": 36
    },
    "colab_type": "code",
    "id": "2nGIdf2gFToZ",
    "outputId": "b4f28cc4-3ca0-4d87-f19c-7393993abf43"
   },
   "outputs": [
    {
     "data": {
      "text/plain": [
       "['mayb', 'i', 'just', 'want', 'to', 'get', 'a', 'certain', 'insight', 'into']"
      ]
     },
     "execution_count": 13,
     "metadata": {
      "tags": []
     },
     "output_type": "execute_result"
    }
   ],
   "source": [
    "sentences[1][:10]"
   ]
  },
  {
   "cell_type": "markdown",
   "metadata": {
    "colab_type": "text",
    "id": "sohClk9XFTog"
   },
   "source": [
    "## **[2/3] Gensim을 통해 벡터화, t-SNE로 시각화하기**\n",
    "\n",
    "### Word2Vec 모델을 학습\n",
    "전처리를 거쳐 파싱된 문장의 목록으로 모델을 학습시킬 준비가 되었다.\n",
    "\n",
    "## Gensim\n",
    "* [gensim: models.word2vec – Deep learning with word2vec](https://radimrehurek.com/gensim/models/word2vec.html)\n",
    "\n",
    "### Word2Vec 모델의 파라메터\n",
    "\n",
    "* 아키텍처 : 아키텍처 옵션은 skip-gram (default) 또는  CBOW 모델이다. skip-gram (default)은 느리지 만 더 나은 결과를 낸다.\n",
    "\n",
    "* 학습 알고리즘 : Hierarchical softmax (default) 또는 negative 샘플링. 여기에서는 기본값이 잘 동작한다.\n",
    "\n",
    "* 빈번하게 등장하는 단어에 대한 다운 샘플링 : Google 문서는 .00001에서 .001 사이의 값을 권장한다. 여기에서는 0.001에 가까운 값이 최종 모델의 정확도를 높이는 것으로 보여진다.\n",
    "\n",
    "* 단어 벡터 차원 : 많은 feature를 사용한다고 항상 좋은 것은 아니지만 대체적으로 좀 더 나은 모델이 된다. 합리적인 값은 수십에서 수백 개가 될 수 있고 여기에서는 300으로 지정했다.\n",
    "\n",
    "* 컨텍스트 / 창 크기 : 학습 알고리즘이 고려해야하는 컨텍스트의 단어 수는 얼마나 될까? hierarchical softmax 를 위해 좀 더 큰 수가 좋지만 10 정도가 적당하다. \n",
    "\n",
    "* Worker threads : 실행할 병렬 프로세스의 수로 컴퓨터마다 다르지만 대부분의 시스템에서 4에서 6 사이의 값을 사용하다.\n",
    "\n",
    "* 최소 단어 수 : 어휘의 크기를 의미있는 단어로 제한하는 데 도움이 된다. 모든 문서에서이 여러 번 발생하지 않는 단어는 무시된다. 10에서 100 사이가 적당하며, 이 경진대회의 데이터는 각 영화가 30개씩의 리뷰가 있기 때문에 개별 영화 제목에 너무 많은 중요성이 붙는 것을 피하기 위해 최소 단어 수를 40으로 설정한다. 그 결과 전체 어휘 크기는 약 15,000 단어가 된다. 높은 값은 제한 된 실행시간에 도움이 된다."
   ]
  },
  {
   "cell_type": "code",
   "execution_count": null,
   "metadata": {
    "colab": {},
    "colab_type": "code",
    "id": "SZ8qwxmHFTog"
   },
   "outputs": [],
   "source": [
    "import logging\n",
    "\n",
    "# 로그\n",
    "logging.basicConfig(\n",
    "    format='%(asctime)s : %(levelname)s : %(message)s', \n",
    "    level=logging.INFO)"
   ]
  },
  {
   "cell_type": "code",
   "execution_count": 15,
   "metadata": {
    "colab": {
     "base_uri": "https://localhost:8080/",
     "height": 1000
    },
    "colab_type": "code",
    "id": "tMGnP9pXFTou",
    "outputId": "b6fd3c37-ab98-4cb7-ba78-bc6cfe2e2497"
   },
   "outputs": [
    {
     "name": "stderr",
     "output_type": "stream",
     "text": [
      "2020-05-09 09:54:51,849 : INFO : 'pattern' package not found; tag filters are not available for English\n",
      "2020-05-09 09:54:51,853 : INFO : collecting all words and their counts\n",
      "2020-05-09 09:54:51,854 : INFO : PROGRESS: at sentence #0, processed 0 words, keeping 0 word types\n",
      "2020-05-09 09:54:51,893 : INFO : PROGRESS: at sentence #10000, processed 225803 words, keeping 12465 word types\n",
      "2020-05-09 09:54:51,935 : INFO : PROGRESS: at sentence #20000, processed 451892 words, keeping 17070 word types\n",
      "2020-05-09 09:54:51,971 : INFO : PROGRESS: at sentence #30000, processed 671314 words, keeping 20370 word types\n",
      "2020-05-09 09:54:52,017 : INFO : PROGRESS: at sentence #40000, processed 897814 words, keeping 23125 word types\n",
      "2020-05-09 09:54:52,058 : INFO : PROGRESS: at sentence #50000, processed 1116962 words, keeping 25365 word types\n",
      "2020-05-09 09:54:52,097 : INFO : PROGRESS: at sentence #60000, processed 1338403 words, keeping 27283 word types\n",
      "2020-05-09 09:54:52,137 : INFO : PROGRESS: at sentence #70000, processed 1561579 words, keeping 29024 word types\n",
      "2020-05-09 09:54:52,175 : INFO : PROGRESS: at sentence #80000, processed 1780886 words, keeping 30603 word types\n",
      "2020-05-09 09:54:52,214 : INFO : PROGRESS: at sentence #90000, processed 2004995 words, keeping 32223 word types\n",
      "2020-05-09 09:54:52,254 : INFO : PROGRESS: at sentence #100000, processed 2226966 words, keeping 33579 word types\n",
      "2020-05-09 09:54:52,292 : INFO : PROGRESS: at sentence #110000, processed 2446580 words, keeping 34827 word types\n",
      "2020-05-09 09:54:52,331 : INFO : PROGRESS: at sentence #120000, processed 2668775 words, keeping 36183 word types\n",
      "2020-05-09 09:54:52,371 : INFO : PROGRESS: at sentence #130000, processed 2894303 words, keeping 37353 word types\n",
      "2020-05-09 09:54:52,412 : INFO : PROGRESS: at sentence #140000, processed 3107005 words, keeping 38376 word types\n",
      "2020-05-09 09:54:52,453 : INFO : PROGRESS: at sentence #150000, processed 3332627 words, keeping 39556 word types\n",
      "2020-05-09 09:54:52,492 : INFO : PROGRESS: at sentence #160000, processed 3555315 words, keeping 40629 word types\n",
      "2020-05-09 09:54:52,540 : INFO : PROGRESS: at sentence #170000, processed 3778655 words, keeping 41628 word types\n",
      "2020-05-09 09:54:52,580 : INFO : PROGRESS: at sentence #180000, processed 3999236 words, keeping 42599 word types\n",
      "2020-05-09 09:54:52,620 : INFO : PROGRESS: at sentence #190000, processed 4224449 words, keeping 43461 word types\n",
      "2020-05-09 09:54:52,665 : INFO : PROGRESS: at sentence #200000, processed 4448603 words, keeping 44301 word types\n",
      "2020-05-09 09:54:52,705 : INFO : PROGRESS: at sentence #210000, processed 4669967 words, keeping 45212 word types\n",
      "2020-05-09 09:54:52,745 : INFO : PROGRESS: at sentence #220000, processed 4894968 words, keeping 46134 word types\n",
      "2020-05-09 09:54:52,783 : INFO : PROGRESS: at sentence #230000, processed 5117546 words, keeping 46986 word types\n",
      "2020-05-09 09:54:52,823 : INFO : PROGRESS: at sentence #240000, processed 5345051 words, keeping 47854 word types\n",
      "2020-05-09 09:54:52,861 : INFO : PROGRESS: at sentence #250000, processed 5559166 words, keeping 48699 word types\n",
      "2020-05-09 09:54:52,900 : INFO : PROGRESS: at sentence #260000, processed 5779147 words, keeping 49469 word types\n",
      "2020-05-09 09:54:52,944 : INFO : PROGRESS: at sentence #270000, processed 6000436 words, keeping 50416 word types\n",
      "2020-05-09 09:54:52,985 : INFO : PROGRESS: at sentence #280000, processed 6226315 words, keeping 51640 word types\n",
      "2020-05-09 09:54:53,029 : INFO : PROGRESS: at sentence #290000, processed 6449475 words, keeping 52754 word types\n",
      "2020-05-09 09:54:53,069 : INFO : PROGRESS: at sentence #300000, processed 6674078 words, keeping 53755 word types\n",
      "2020-05-09 09:54:53,111 : INFO : PROGRESS: at sentence #310000, processed 6899392 words, keeping 54734 word types\n",
      "2020-05-09 09:54:53,155 : INFO : PROGRESS: at sentence #320000, processed 7124279 words, keeping 55770 word types\n",
      "2020-05-09 09:54:53,196 : INFO : PROGRESS: at sentence #330000, processed 7346022 words, keeping 56687 word types\n",
      "2020-05-09 09:54:53,237 : INFO : PROGRESS: at sentence #340000, processed 7575534 words, keeping 57629 word types\n",
      "2020-05-09 09:54:53,278 : INFO : PROGRESS: at sentence #350000, processed 7798804 words, keeping 58485 word types\n",
      "2020-05-09 09:54:53,317 : INFO : PROGRESS: at sentence #360000, processed 8019467 words, keeping 59345 word types\n",
      "2020-05-09 09:54:53,358 : INFO : PROGRESS: at sentence #370000, processed 8246659 words, keeping 60161 word types\n",
      "2020-05-09 09:54:53,399 : INFO : PROGRESS: at sentence #380000, processed 8471806 words, keeping 61069 word types\n",
      "2020-05-09 09:54:53,445 : INFO : PROGRESS: at sentence #390000, processed 8701556 words, keeping 61810 word types\n",
      "2020-05-09 09:54:53,486 : INFO : PROGRESS: at sentence #400000, processed 8924505 words, keeping 62546 word types\n",
      "2020-05-09 09:54:53,526 : INFO : PROGRESS: at sentence #410000, processed 9145855 words, keeping 63263 word types\n",
      "2020-05-09 09:54:53,566 : INFO : PROGRESS: at sentence #420000, processed 9366935 words, keeping 64024 word types\n",
      "2020-05-09 09:54:53,606 : INFO : PROGRESS: at sentence #430000, processed 9594472 words, keeping 64795 word types\n",
      "2020-05-09 09:54:53,646 : INFO : PROGRESS: at sentence #440000, processed 9821225 words, keeping 65539 word types\n",
      "2020-05-09 09:54:53,689 : INFO : PROGRESS: at sentence #450000, processed 10044987 words, keeping 66378 word types\n",
      "2020-05-09 09:54:53,733 : INFO : PROGRESS: at sentence #460000, processed 10277747 words, keeping 67158 word types\n",
      "2020-05-09 09:54:53,775 : INFO : PROGRESS: at sentence #470000, processed 10505672 words, keeping 67775 word types\n",
      "2020-05-09 09:54:53,814 : INFO : PROGRESS: at sentence #480000, processed 10726056 words, keeping 68500 word types\n",
      "2020-05-09 09:54:53,855 : INFO : PROGRESS: at sentence #490000, processed 10952800 words, keeping 69256 word types\n",
      "2020-05-09 09:54:53,895 : INFO : PROGRESS: at sentence #500000, processed 11174456 words, keeping 69892 word types\n",
      "2020-05-09 09:54:53,940 : INFO : PROGRESS: at sentence #510000, processed 11399731 words, keeping 70593 word types\n",
      "2020-05-09 09:54:53,982 : INFO : PROGRESS: at sentence #520000, processed 11623082 words, keeping 71267 word types\n",
      "2020-05-09 09:54:54,028 : INFO : PROGRESS: at sentence #530000, processed 11847480 words, keeping 71877 word types\n",
      "2020-05-09 09:54:54,068 : INFO : PROGRESS: at sentence #540000, processed 12072095 words, keeping 72537 word types\n",
      "2020-05-09 09:54:54,109 : INFO : PROGRESS: at sentence #550000, processed 12297646 words, keeping 73212 word types\n",
      "2020-05-09 09:54:54,149 : INFO : PROGRESS: at sentence #560000, processed 12518936 words, keeping 73861 word types\n",
      "2020-05-09 09:54:54,190 : INFO : PROGRESS: at sentence #570000, processed 12748083 words, keeping 74431 word types\n",
      "2020-05-09 09:54:54,238 : INFO : PROGRESS: at sentence #580000, processed 12969579 words, keeping 75087 word types\n",
      "2020-05-09 09:54:54,281 : INFO : PROGRESS: at sentence #590000, processed 13195103 words, keeping 75734 word types\n",
      "2020-05-09 09:54:54,322 : INFO : PROGRESS: at sentence #600000, processed 13417301 words, keeping 76295 word types\n",
      "2020-05-09 09:54:54,362 : INFO : PROGRESS: at sentence #610000, processed 13638324 words, keeping 76953 word types\n",
      "2020-05-09 09:54:54,402 : INFO : PROGRESS: at sentence #620000, processed 13864649 words, keeping 77504 word types\n",
      "2020-05-09 09:54:54,443 : INFO : PROGRESS: at sentence #630000, processed 14088935 words, keeping 78067 word types\n",
      "2020-05-09 09:54:54,486 : INFO : PROGRESS: at sentence #640000, processed 14309718 words, keeping 78693 word types\n",
      "2020-05-09 09:54:54,527 : INFO : PROGRESS: at sentence #650000, processed 14535474 words, keeping 79296 word types\n",
      "2020-05-09 09:54:54,569 : INFO : PROGRESS: at sentence #660000, processed 14758264 words, keeping 79865 word types\n",
      "2020-05-09 09:54:54,609 : INFO : PROGRESS: at sentence #670000, processed 14981657 words, keeping 80382 word types\n",
      "2020-05-09 09:54:54,650 : INFO : PROGRESS: at sentence #680000, processed 15206489 words, keeping 80913 word types\n",
      "2020-05-09 09:54:54,690 : INFO : PROGRESS: at sentence #690000, processed 15428682 words, keeping 81483 word types\n",
      "2020-05-09 09:54:54,731 : INFO : PROGRESS: at sentence #700000, processed 15657388 words, keeping 82075 word types\n",
      "2020-05-09 09:54:54,771 : INFO : PROGRESS: at sentence #710000, processed 15880377 words, keeping 82561 word types\n",
      "2020-05-09 09:54:54,818 : INFO : PROGRESS: at sentence #720000, processed 16105664 words, keeping 83037 word types\n",
      "2020-05-09 09:54:54,861 : INFO : PROGRESS: at sentence #730000, processed 16332045 words, keeping 83572 word types\n",
      "2020-05-09 09:54:54,901 : INFO : PROGRESS: at sentence #740000, processed 16553078 words, keeping 84128 word types\n",
      "2020-05-09 09:54:54,945 : INFO : PROGRESS: at sentence #750000, processed 16771405 words, keeping 84600 word types\n",
      "2020-05-09 09:54:54,985 : INFO : PROGRESS: at sentence #760000, processed 16990809 words, keeping 85069 word types\n",
      "2020-05-09 09:54:55,026 : INFO : PROGRESS: at sentence #770000, processed 17217946 words, keeping 85645 word types\n",
      "2020-05-09 09:54:55,073 : INFO : PROGRESS: at sentence #780000, processed 17448092 words, keeping 86161 word types\n",
      "2020-05-09 09:54:55,115 : INFO : PROGRESS: at sentence #790000, processed 17675168 words, keeping 86666 word types\n",
      "2020-05-09 09:54:55,138 : INFO : collected 86997 word types from a corpus of 17798269 raw words and 795538 sentences\n",
      "2020-05-09 09:54:55,138 : INFO : Loading a fresh vocabulary\n",
      "2020-05-09 09:54:55,187 : INFO : effective_min_count=40 retains 11986 unique words (13% of original 86997, drops 75011)\n",
      "2020-05-09 09:54:55,188 : INFO : effective_min_count=40 leaves 17434031 word corpus (97% of original 17798269, drops 364238)\n",
      "2020-05-09 09:54:55,219 : INFO : deleting the raw counts dictionary of 86997 items\n",
      "2020-05-09 09:54:55,223 : INFO : sample=0.001 downsamples 50 most-common words\n",
      "2020-05-09 09:54:55,224 : INFO : downsampling leaves estimated 12872362 word corpus (73.8% of prior 17434031)\n",
      "2020-05-09 09:54:55,249 : INFO : estimated required memory for 11986 words and 300 dimensions: 34759400 bytes\n",
      "2020-05-09 09:54:55,249 : INFO : resetting layer weights\n",
      "2020-05-09 09:54:57,320 : INFO : training model with 4 workers on 11986 vocabulary and 300 features, using sg=0 hs=0 sample=0.001 negative=5 window=10\n",
      "2020-05-09 09:54:58,338 : INFO : EPOCH 1 - PROGRESS: at 3.36% examples, 433541 words/s, in_qsize 8, out_qsize 0\n",
      "2020-05-09 09:54:59,359 : INFO : EPOCH 1 - PROGRESS: at 6.86% examples, 435917 words/s, in_qsize 7, out_qsize 0\n",
      "2020-05-09 09:55:00,363 : INFO : EPOCH 1 - PROGRESS: at 10.32% examples, 436786 words/s, in_qsize 7, out_qsize 0\n",
      "2020-05-09 09:55:01,392 : INFO : EPOCH 1 - PROGRESS: at 13.88% examples, 438375 words/s, in_qsize 6, out_qsize 1\n",
      "2020-05-09 09:55:02,436 : INFO : EPOCH 1 - PROGRESS: at 17.64% examples, 442839 words/s, in_qsize 8, out_qsize 3\n",
      "2020-05-09 09:55:03,429 : INFO : EPOCH 1 - PROGRESS: at 21.24% examples, 445853 words/s, in_qsize 7, out_qsize 0\n",
      "2020-05-09 09:55:04,439 : INFO : EPOCH 1 - PROGRESS: at 24.88% examples, 448610 words/s, in_qsize 7, out_qsize 0\n",
      "2020-05-09 09:55:05,450 : INFO : EPOCH 1 - PROGRESS: at 28.53% examples, 450437 words/s, in_qsize 7, out_qsize 0\n",
      "2020-05-09 09:55:06,474 : INFO : EPOCH 1 - PROGRESS: at 32.18% examples, 450461 words/s, in_qsize 7, out_qsize 0\n",
      "2020-05-09 09:55:07,481 : INFO : EPOCH 1 - PROGRESS: at 35.89% examples, 452703 words/s, in_qsize 7, out_qsize 0\n",
      "2020-05-09 09:55:08,494 : INFO : EPOCH 1 - PROGRESS: at 39.48% examples, 453035 words/s, in_qsize 7, out_qsize 0\n",
      "2020-05-09 09:55:09,506 : INFO : EPOCH 1 - PROGRESS: at 42.97% examples, 452766 words/s, in_qsize 7, out_qsize 0\n",
      "2020-05-09 09:55:10,514 : INFO : EPOCH 1 - PROGRESS: at 46.61% examples, 453724 words/s, in_qsize 7, out_qsize 0\n",
      "2020-05-09 09:55:11,528 : INFO : EPOCH 1 - PROGRESS: at 50.05% examples, 452887 words/s, in_qsize 7, out_qsize 0\n",
      "2020-05-09 09:55:12,529 : INFO : EPOCH 1 - PROGRESS: at 53.56% examples, 452488 words/s, in_qsize 5, out_qsize 2\n",
      "2020-05-09 09:55:13,571 : INFO : EPOCH 1 - PROGRESS: at 57.09% examples, 451885 words/s, in_qsize 7, out_qsize 0\n",
      "2020-05-09 09:55:14,577 : INFO : EPOCH 1 - PROGRESS: at 60.52% examples, 451496 words/s, in_qsize 7, out_qsize 0\n",
      "2020-05-09 09:55:15,607 : INFO : EPOCH 1 - PROGRESS: at 63.78% examples, 448977 words/s, in_qsize 7, out_qsize 0\n",
      "2020-05-09 09:55:16,630 : INFO : EPOCH 1 - PROGRESS: at 67.23% examples, 448391 words/s, in_qsize 7, out_qsize 0\n",
      "2020-05-09 09:55:17,634 : INFO : EPOCH 1 - PROGRESS: at 70.82% examples, 448952 words/s, in_qsize 7, out_qsize 0\n",
      "2020-05-09 09:55:18,664 : INFO : EPOCH 1 - PROGRESS: at 74.23% examples, 447952 words/s, in_qsize 7, out_qsize 0\n",
      "2020-05-09 09:55:19,683 : INFO : EPOCH 1 - PROGRESS: at 77.94% examples, 448876 words/s, in_qsize 7, out_qsize 0\n",
      "2020-05-09 09:55:20,709 : INFO : EPOCH 1 - PROGRESS: at 81.70% examples, 449841 words/s, in_qsize 6, out_qsize 1\n",
      "2020-05-09 09:55:21,721 : INFO : EPOCH 1 - PROGRESS: at 85.34% examples, 450430 words/s, in_qsize 7, out_qsize 0\n",
      "2020-05-09 09:55:22,727 : INFO : EPOCH 1 - PROGRESS: at 88.92% examples, 450779 words/s, in_qsize 7, out_qsize 0\n",
      "2020-05-09 09:55:23,734 : INFO : EPOCH 1 - PROGRESS: at 92.56% examples, 451361 words/s, in_qsize 7, out_qsize 0\n",
      "2020-05-09 09:55:24,741 : INFO : EPOCH 1 - PROGRESS: at 96.08% examples, 451097 words/s, in_qsize 8, out_qsize 1\n",
      "2020-05-09 09:55:25,762 : INFO : EPOCH 1 - PROGRESS: at 99.66% examples, 451383 words/s, in_qsize 6, out_qsize 0\n",
      "2020-05-09 09:55:25,815 : INFO : worker thread finished; awaiting finish of 3 more threads\n",
      "2020-05-09 09:55:25,823 : INFO : worker thread finished; awaiting finish of 2 more threads\n",
      "2020-05-09 09:55:25,835 : INFO : worker thread finished; awaiting finish of 1 more threads\n",
      "2020-05-09 09:55:25,842 : INFO : worker thread finished; awaiting finish of 0 more threads\n",
      "2020-05-09 09:55:25,843 : INFO : EPOCH - 1 : training on 17798269 raw words (12873265 effective words) took 28.5s, 451609 effective words/s\n",
      "2020-05-09 09:55:26,851 : INFO : EPOCH 2 - PROGRESS: at 3.42% examples, 440539 words/s, in_qsize 7, out_qsize 0\n",
      "2020-05-09 09:55:27,864 : INFO : EPOCH 2 - PROGRESS: at 6.90% examples, 440981 words/s, in_qsize 7, out_qsize 0\n",
      "2020-05-09 09:55:28,877 : INFO : EPOCH 2 - PROGRESS: at 10.47% examples, 443602 words/s, in_qsize 7, out_qsize 0\n",
      "2020-05-09 09:55:29,881 : INFO : EPOCH 2 - PROGRESS: at 13.99% examples, 444373 words/s, in_qsize 7, out_qsize 0\n",
      "2020-05-09 09:55:30,884 : INFO : EPOCH 2 - PROGRESS: at 17.75% examples, 450544 words/s, in_qsize 8, out_qsize 0\n",
      "2020-05-09 09:55:31,893 : INFO : EPOCH 2 - PROGRESS: at 21.40% examples, 452992 words/s, in_qsize 7, out_qsize 0\n",
      "2020-05-09 09:55:32,899 : INFO : EPOCH 2 - PROGRESS: at 25.05% examples, 454969 words/s, in_qsize 7, out_qsize 0\n",
      "2020-05-09 09:55:33,912 : INFO : EPOCH 2 - PROGRESS: at 28.59% examples, 454121 words/s, in_qsize 8, out_qsize 2\n",
      "2020-05-09 09:55:34,920 : INFO : EPOCH 2 - PROGRESS: at 32.46% examples, 457717 words/s, in_qsize 7, out_qsize 0\n",
      "2020-05-09 09:55:35,921 : INFO : EPOCH 2 - PROGRESS: at 36.00% examples, 457342 words/s, in_qsize 7, out_qsize 0\n",
      "2020-05-09 09:55:36,961 : INFO : EPOCH 2 - PROGRESS: at 39.70% examples, 457440 words/s, in_qsize 8, out_qsize 1\n",
      "2020-05-09 09:55:37,980 : INFO : EPOCH 2 - PROGRESS: at 43.42% examples, 458893 words/s, in_qsize 7, out_qsize 0\n",
      "2020-05-09 09:55:38,989 : INFO : EPOCH 2 - PROGRESS: at 46.99% examples, 458841 words/s, in_qsize 7, out_qsize 0\n",
      "2020-05-09 09:55:40,018 : INFO : EPOCH 2 - PROGRESS: at 50.74% examples, 459669 words/s, in_qsize 7, out_qsize 0\n",
      "2020-05-09 09:55:41,030 : INFO : EPOCH 2 - PROGRESS: at 54.31% examples, 459462 words/s, in_qsize 7, out_qsize 0\n",
      "2020-05-09 09:55:42,061 : INFO : EPOCH 2 - PROGRESS: at 57.96% examples, 459581 words/s, in_qsize 7, out_qsize 0\n",
      "2020-05-09 09:55:43,066 : INFO : EPOCH 2 - PROGRESS: at 61.53% examples, 459624 words/s, in_qsize 7, out_qsize 0\n",
      "2020-05-09 09:55:44,084 : INFO : EPOCH 2 - PROGRESS: at 65.17% examples, 459740 words/s, in_qsize 8, out_qsize 1\n",
      "2020-05-09 09:55:45,089 : INFO : EPOCH 2 - PROGRESS: at 68.83% examples, 460104 words/s, in_qsize 7, out_qsize 0\n",
      "2020-05-09 09:55:46,091 : INFO : EPOCH 2 - PROGRESS: at 72.32% examples, 459837 words/s, in_qsize 7, out_qsize 0\n",
      "2020-05-09 09:55:47,098 : INFO : EPOCH 2 - PROGRESS: at 75.88% examples, 459447 words/s, in_qsize 7, out_qsize 0\n",
      "2020-05-09 09:55:48,117 : INFO : EPOCH 2 - PROGRESS: at 79.40% examples, 458846 words/s, in_qsize 7, out_qsize 0\n",
      "2020-05-09 09:55:49,121 : INFO : EPOCH 2 - PROGRESS: at 83.00% examples, 458903 words/s, in_qsize 7, out_qsize 0\n",
      "2020-05-09 09:55:50,133 : INFO : EPOCH 2 - PROGRESS: at 86.53% examples, 458504 words/s, in_qsize 6, out_qsize 1\n",
      "2020-05-09 09:55:51,141 : INFO : EPOCH 2 - PROGRESS: at 90.18% examples, 459132 words/s, in_qsize 7, out_qsize 0\n",
      "2020-05-09 09:55:52,154 : INFO : EPOCH 2 - PROGRESS: at 93.86% examples, 459215 words/s, in_qsize 8, out_qsize 1\n",
      "2020-05-09 09:55:53,205 : INFO : EPOCH 2 - PROGRESS: at 97.67% examples, 459541 words/s, in_qsize 7, out_qsize 0\n",
      "2020-05-09 09:55:53,814 : INFO : worker thread finished; awaiting finish of 3 more threads\n",
      "2020-05-09 09:55:53,821 : INFO : worker thread finished; awaiting finish of 2 more threads\n",
      "2020-05-09 09:55:53,830 : INFO : worker thread finished; awaiting finish of 1 more threads\n",
      "2020-05-09 09:55:53,839 : INFO : worker thread finished; awaiting finish of 0 more threads\n",
      "2020-05-09 09:55:53,840 : INFO : EPOCH - 2 : training on 17798269 raw words (12872972 effective words) took 28.0s, 459928 effective words/s\n",
      "2020-05-09 09:55:54,849 : INFO : EPOCH 3 - PROGRESS: at 3.48% examples, 447508 words/s, in_qsize 7, out_qsize 0\n",
      "2020-05-09 09:55:55,850 : INFO : EPOCH 3 - PROGRESS: at 7.13% examples, 457604 words/s, in_qsize 7, out_qsize 0\n",
      "2020-05-09 09:55:56,875 : INFO : EPOCH 3 - PROGRESS: at 10.75% examples, 455395 words/s, in_qsize 5, out_qsize 2\n",
      "2020-05-09 09:55:57,881 : INFO : EPOCH 3 - PROGRESS: at 14.39% examples, 456542 words/s, in_qsize 7, out_qsize 0\n",
      "2020-05-09 09:55:58,884 : INFO : EPOCH 3 - PROGRESS: at 18.08% examples, 458842 words/s, in_qsize 7, out_qsize 0\n",
      "2020-05-09 09:55:59,897 : INFO : EPOCH 3 - PROGRESS: at 21.75% examples, 459647 words/s, in_qsize 7, out_qsize 0\n",
      "2020-05-09 09:56:00,899 : INFO : EPOCH 3 - PROGRESS: at 25.28% examples, 458809 words/s, in_qsize 7, out_qsize 0\n",
      "2020-05-09 09:56:01,950 : INFO : EPOCH 3 - PROGRESS: at 29.04% examples, 458962 words/s, in_qsize 8, out_qsize 0\n",
      "2020-05-09 09:56:02,953 : INFO : EPOCH 3 - PROGRESS: at 32.74% examples, 459830 words/s, in_qsize 7, out_qsize 0\n",
      "2020-05-09 09:56:03,961 : INFO : EPOCH 3 - PROGRESS: at 36.51% examples, 461822 words/s, in_qsize 7, out_qsize 0\n",
      "2020-05-09 09:56:04,980 : INFO : EPOCH 3 - PROGRESS: at 40.07% examples, 461043 words/s, in_qsize 7, out_qsize 0\n",
      "2020-05-09 09:56:06,017 : INFO : EPOCH 3 - PROGRESS: at 43.69% examples, 460311 words/s, in_qsize 7, out_qsize 0\n",
      "2020-05-09 09:56:07,046 : INFO : EPOCH 3 - PROGRESS: at 47.33% examples, 459983 words/s, in_qsize 7, out_qsize 0\n",
      "2020-05-09 09:56:08,071 : INFO : EPOCH 3 - PROGRESS: at 51.01% examples, 460374 words/s, in_qsize 7, out_qsize 0\n",
      "2020-05-09 09:56:09,087 : INFO : EPOCH 3 - PROGRESS: at 54.54% examples, 459524 words/s, in_qsize 7, out_qsize 0\n",
      "2020-05-09 09:56:10,118 : INFO : EPOCH 3 - PROGRESS: at 58.18% examples, 459663 words/s, in_qsize 7, out_qsize 0\n",
      "2020-05-09 09:56:11,147 : INFO : EPOCH 3 - PROGRESS: at 61.81% examples, 459446 words/s, in_qsize 6, out_qsize 1\n",
      "2020-05-09 09:56:12,158 : INFO : EPOCH 3 - PROGRESS: at 65.51% examples, 460111 words/s, in_qsize 7, out_qsize 0\n",
      "2020-05-09 09:56:13,172 : INFO : EPOCH 3 - PROGRESS: at 69.09% examples, 459902 words/s, in_qsize 7, out_qsize 0\n",
      "2020-05-09 09:56:14,193 : INFO : EPOCH 3 - PROGRESS: at 72.60% examples, 459198 words/s, in_qsize 5, out_qsize 2\n",
      "2020-05-09 09:56:15,220 : INFO : EPOCH 3 - PROGRESS: at 76.05% examples, 457737 words/s, in_qsize 7, out_qsize 0\n",
      "2020-05-09 09:56:16,220 : INFO : EPOCH 3 - PROGRESS: at 79.46% examples, 456940 words/s, in_qsize 7, out_qsize 0\n",
      "2020-05-09 09:56:17,228 : INFO : EPOCH 3 - PROGRESS: at 82.99% examples, 456678 words/s, in_qsize 7, out_qsize 0\n",
      "2020-05-09 09:56:18,239 : INFO : EPOCH 3 - PROGRESS: at 86.70% examples, 457288 words/s, in_qsize 7, out_qsize 0\n",
      "2020-05-09 09:56:19,252 : INFO : EPOCH 3 - PROGRESS: at 90.24% examples, 457242 words/s, in_qsize 7, out_qsize 0\n",
      "2020-05-09 09:56:20,255 : INFO : EPOCH 3 - PROGRESS: at 93.86% examples, 457384 words/s, in_qsize 7, out_qsize 0\n",
      "2020-05-09 09:56:21,272 : INFO : EPOCH 3 - PROGRESS: at 97.12% examples, 455673 words/s, in_qsize 6, out_qsize 1\n",
      "2020-05-09 09:56:22,132 : INFO : worker thread finished; awaiting finish of 3 more threads\n",
      "2020-05-09 09:56:22,150 : INFO : worker thread finished; awaiting finish of 2 more threads\n",
      "2020-05-09 09:56:22,166 : INFO : worker thread finished; awaiting finish of 1 more threads\n",
      "2020-05-09 09:56:22,170 : INFO : worker thread finished; awaiting finish of 0 more threads\n",
      "2020-05-09 09:56:22,171 : INFO : EPOCH - 3 : training on 17798269 raw words (12872444 effective words) took 28.3s, 454469 effective words/s\n",
      "2020-05-09 09:56:23,202 : INFO : EPOCH 4 - PROGRESS: at 3.36% examples, 423814 words/s, in_qsize 7, out_qsize 0\n",
      "2020-05-09 09:56:24,241 : INFO : EPOCH 4 - PROGRESS: at 7.02% examples, 437607 words/s, in_qsize 7, out_qsize 0\n",
      "2020-05-09 09:56:25,263 : INFO : EPOCH 4 - PROGRESS: at 10.64% examples, 442553 words/s, in_qsize 7, out_qsize 0\n",
      "2020-05-09 09:56:26,273 : INFO : EPOCH 4 - PROGRESS: at 14.40% examples, 449972 words/s, in_qsize 7, out_qsize 0\n",
      "2020-05-09 09:56:27,311 : INFO : EPOCH 4 - PROGRESS: at 18.08% examples, 450317 words/s, in_qsize 7, out_qsize 0\n",
      "2020-05-09 09:56:28,333 : INFO : EPOCH 4 - PROGRESS: at 21.69% examples, 450634 words/s, in_qsize 8, out_qsize 1\n",
      "2020-05-09 09:56:29,339 : INFO : EPOCH 4 - PROGRESS: at 25.16% examples, 449934 words/s, in_qsize 7, out_qsize 0\n",
      "2020-05-09 09:56:30,353 : INFO : EPOCH 4 - PROGRESS: at 28.65% examples, 448842 words/s, in_qsize 7, out_qsize 0\n",
      "2020-05-09 09:56:31,368 : INFO : EPOCH 4 - PROGRESS: at 32.23% examples, 448694 words/s, in_qsize 8, out_qsize 0\n",
      "2020-05-09 09:56:32,374 : INFO : EPOCH 4 - PROGRESS: at 35.66% examples, 447653 words/s, in_qsize 7, out_qsize 0\n",
      "2020-05-09 09:56:33,390 : INFO : EPOCH 4 - PROGRESS: at 39.25% examples, 448333 words/s, in_qsize 7, out_qsize 0\n",
      "2020-05-09 09:56:34,417 : INFO : EPOCH 4 - PROGRESS: at 42.69% examples, 447264 words/s, in_qsize 7, out_qsize 0\n",
      "2020-05-09 09:56:35,417 : INFO : EPOCH 4 - PROGRESS: at 46.16% examples, 447276 words/s, in_qsize 8, out_qsize 1\n",
      "2020-05-09 09:56:36,436 : INFO : EPOCH 4 - PROGRESS: at 49.67% examples, 447208 words/s, in_qsize 7, out_qsize 0\n",
      "2020-05-09 09:56:37,443 : INFO : EPOCH 4 - PROGRESS: at 52.89% examples, 444685 words/s, in_qsize 7, out_qsize 0\n",
      "2020-05-09 09:56:38,445 : INFO : EPOCH 4 - PROGRESS: at 56.16% examples, 443443 words/s, in_qsize 7, out_qsize 0\n",
      "2020-05-09 09:56:39,460 : INFO : EPOCH 4 - PROGRESS: at 59.51% examples, 442888 words/s, in_qsize 7, out_qsize 0\n",
      "2020-05-09 09:56:40,472 : INFO : EPOCH 4 - PROGRESS: at 63.05% examples, 443277 words/s, in_qsize 7, out_qsize 0\n",
      "2020-05-09 09:56:41,478 : INFO : EPOCH 4 - PROGRESS: at 66.57% examples, 443742 words/s, in_qsize 8, out_qsize 1\n",
      "2020-05-09 09:56:42,482 : INFO : EPOCH 4 - PROGRESS: at 70.22% examples, 444895 words/s, in_qsize 7, out_qsize 0\n",
      "2020-05-09 09:56:43,483 : INFO : EPOCH 4 - PROGRESS: at 73.79% examples, 445705 words/s, in_qsize 7, out_qsize 0\n",
      "2020-05-09 09:56:44,499 : INFO : EPOCH 4 - PROGRESS: at 77.37% examples, 446138 words/s, in_qsize 7, out_qsize 0\n",
      "2020-05-09 09:56:45,516 : INFO : EPOCH 4 - PROGRESS: at 81.10% examples, 447085 words/s, in_qsize 7, out_qsize 0\n",
      "2020-05-09 09:56:46,519 : INFO : EPOCH 4 - PROGRESS: at 84.62% examples, 447362 words/s, in_qsize 7, out_qsize 0\n",
      "2020-05-09 09:56:47,522 : INFO : EPOCH 4 - PROGRESS: at 88.18% examples, 447887 words/s, in_qsize 7, out_qsize 0\n",
      "2020-05-09 09:56:48,536 : INFO : EPOCH 4 - PROGRESS: at 91.71% examples, 447927 words/s, in_qsize 7, out_qsize 0\n",
      "2020-05-09 09:56:49,551 : INFO : EPOCH 4 - PROGRESS: at 95.41% examples, 448461 words/s, in_qsize 6, out_qsize 1\n",
      "2020-05-09 09:56:50,563 : INFO : EPOCH 4 - PROGRESS: at 99.00% examples, 448994 words/s, in_qsize 7, out_qsize 0\n",
      "2020-05-09 09:56:50,832 : INFO : worker thread finished; awaiting finish of 3 more threads\n",
      "2020-05-09 09:56:50,834 : INFO : worker thread finished; awaiting finish of 2 more threads\n",
      "2020-05-09 09:56:50,841 : INFO : worker thread finished; awaiting finish of 1 more threads\n",
      "2020-05-09 09:56:50,845 : INFO : worker thread finished; awaiting finish of 0 more threads\n",
      "2020-05-09 09:56:50,846 : INFO : EPOCH - 4 : training on 17798269 raw words (12873873 effective words) took 28.7s, 449075 effective words/s\n",
      "2020-05-09 09:56:51,890 : INFO : EPOCH 5 - PROGRESS: at 3.54% examples, 440660 words/s, in_qsize 7, out_qsize 0\n",
      "2020-05-09 09:56:52,922 : INFO : EPOCH 5 - PROGRESS: at 7.20% examples, 446571 words/s, in_qsize 7, out_qsize 3\n",
      "2020-05-09 09:56:53,963 : INFO : EPOCH 5 - PROGRESS: at 10.92% examples, 450342 words/s, in_qsize 8, out_qsize 1\n",
      "2020-05-09 09:56:54,963 : INFO : EPOCH 5 - PROGRESS: at 14.62% examples, 455070 words/s, in_qsize 7, out_qsize 0\n",
      "2020-05-09 09:56:55,970 : INFO : EPOCH 5 - PROGRESS: at 18.19% examples, 454357 words/s, in_qsize 7, out_qsize 0\n",
      "2020-05-09 09:56:57,013 : INFO : EPOCH 5 - PROGRESS: at 21.92% examples, 454858 words/s, in_qsize 7, out_qsize 0\n",
      "2020-05-09 09:56:58,026 : INFO : EPOCH 5 - PROGRESS: at 25.63% examples, 456964 words/s, in_qsize 7, out_qsize 0\n",
      "2020-05-09 09:56:59,031 : INFO : EPOCH 5 - PROGRESS: at 29.21% examples, 457316 words/s, in_qsize 7, out_qsize 0\n",
      "2020-05-09 09:57:00,038 : INFO : EPOCH 5 - PROGRESS: at 32.86% examples, 457419 words/s, in_qsize 6, out_qsize 1\n",
      "2020-05-09 09:57:01,056 : INFO : EPOCH 5 - PROGRESS: at 36.40% examples, 456330 words/s, in_qsize 7, out_qsize 0\n",
      "2020-05-09 09:57:02,063 : INFO : EPOCH 5 - PROGRESS: at 39.96% examples, 456557 words/s, in_qsize 7, out_qsize 0\n",
      "2020-05-09 09:57:03,077 : INFO : EPOCH 5 - PROGRESS: at 43.64% examples, 457659 words/s, in_qsize 7, out_qsize 0\n",
      "2020-05-09 09:57:04,079 : INFO : EPOCH 5 - PROGRESS: at 47.28% examples, 458484 words/s, in_qsize 7, out_qsize 0\n",
      "2020-05-09 09:57:05,088 : INFO : EPOCH 5 - PROGRESS: at 50.79% examples, 457943 words/s, in_qsize 7, out_qsize 0\n",
      "2020-05-09 09:57:06,091 : INFO : EPOCH 5 - PROGRESS: at 54.43% examples, 458552 words/s, in_qsize 7, out_qsize 1\n",
      "2020-05-09 09:57:07,114 : INFO : EPOCH 5 - PROGRESS: at 57.96% examples, 458124 words/s, in_qsize 7, out_qsize 0\n",
      "2020-05-09 09:57:08,118 : INFO : EPOCH 5 - PROGRESS: at 61.58% examples, 458705 words/s, in_qsize 7, out_qsize 0\n",
      "2020-05-09 09:57:09,131 : INFO : EPOCH 5 - PROGRESS: at 65.17% examples, 458596 words/s, in_qsize 6, out_qsize 1\n",
      "2020-05-09 09:57:10,144 : INFO : EPOCH 5 - PROGRESS: at 68.93% examples, 459569 words/s, in_qsize 7, out_qsize 0\n",
      "2020-05-09 09:57:11,144 : INFO : EPOCH 5 - PROGRESS: at 72.49% examples, 459693 words/s, in_qsize 7, out_qsize 0\n",
      "2020-05-09 09:57:12,157 : INFO : EPOCH 5 - PROGRESS: at 76.10% examples, 459537 words/s, in_qsize 7, out_qsize 0\n",
      "2020-05-09 09:57:13,160 : INFO : EPOCH 5 - PROGRESS: at 79.80% examples, 460239 words/s, in_qsize 7, out_qsize 0\n",
      "2020-05-09 09:57:14,183 : INFO : EPOCH 5 - PROGRESS: at 83.45% examples, 460171 words/s, in_qsize 7, out_qsize 0\n",
      "2020-05-09 09:57:15,214 : INFO : EPOCH 5 - PROGRESS: at 86.81% examples, 458472 words/s, in_qsize 8, out_qsize 1\n",
      "2020-05-09 09:57:16,240 : INFO : EPOCH 5 - PROGRESS: at 90.24% examples, 457588 words/s, in_qsize 7, out_qsize 0\n",
      "2020-05-09 09:57:17,291 : INFO : EPOCH 5 - PROGRESS: at 94.04% examples, 457685 words/s, in_qsize 7, out_qsize 0\n",
      "2020-05-09 09:57:18,307 : INFO : EPOCH 5 - PROGRESS: at 97.72% examples, 458097 words/s, in_qsize 7, out_qsize 0\n",
      "2020-05-09 09:57:18,883 : INFO : worker thread finished; awaiting finish of 3 more threads\n",
      "2020-05-09 09:57:18,898 : INFO : worker thread finished; awaiting finish of 2 more threads\n",
      "2020-05-09 09:57:18,917 : INFO : worker thread finished; awaiting finish of 1 more threads\n",
      "2020-05-09 09:57:18,932 : INFO : worker thread finished; awaiting finish of 0 more threads\n",
      "2020-05-09 09:57:18,933 : INFO : EPOCH - 5 : training on 17798269 raw words (12871788 effective words) took 28.1s, 458409 effective words/s\n",
      "2020-05-09 09:57:18,933 : INFO : training on a 88991345 raw words (64364342 effective words) took 141.6s, 454511 effective words/s\n"
     ]
    },
    {
     "data": {
      "text/plain": [
       "<gensim.models.word2vec.Word2Vec at 0x7f47956a3f98>"
      ]
     },
     "execution_count": 15,
     "metadata": {
      "tags": []
     },
     "output_type": "execute_result"
    }
   ],
   "source": [
    "# 파라메터값 지정\n",
    "num_features = 300 # 문자 벡터 차원 수\n",
    "min_word_count = 40 # 최소 문자 수\n",
    "num_workers = 4 # 병렬 처리 스레드 수\n",
    "context = 10 # 문자열 창 크기\n",
    "downsampling = 1e-3 # 문자 빈도 수 Downsample\n",
    "\n",
    "# 초기화 및 모델 학습\n",
    "from gensim.models import word2vec\n",
    "\n",
    "# 모델 학습\n",
    "model = word2vec.Word2Vec(sentences, \n",
    "                          workers=num_workers, \n",
    "                          size=num_features, \n",
    "                          min_count=min_word_count,\n",
    "                          window=context,\n",
    "                          sample=downsampling)\n",
    "model"
   ]
  },
  {
   "cell_type": "code",
   "execution_count": 16,
   "metadata": {
    "colab": {
     "base_uri": "https://localhost:8080/",
     "height": 111
    },
    "colab_type": "code",
    "id": "0jTx8VxdFToy",
    "outputId": "2157f2ec-0f19-4c38-a6f8-1b00432b646e"
   },
   "outputs": [
    {
     "name": "stderr",
     "output_type": "stream",
     "text": [
      "2020-05-09 09:57:18,947 : INFO : precomputing L2-norms of word weight vectors\n",
      "2020-05-09 09:57:19,045 : INFO : saving Word2Vec object under 300features_40minwords_10text, separately None\n",
      "2020-05-09 09:57:19,046 : INFO : not storing attribute vectors_norm\n",
      "2020-05-09 09:57:19,048 : INFO : not storing attribute cum_table\n",
      "2020-05-09 09:57:19,362 : INFO : saved 300features_40minwords_10text\n"
     ]
    }
   ],
   "source": [
    "# 학습이 완료 되면 필요없는 메모리를 unload 시킨다.\n",
    "model.init_sims(replace=True)\n",
    "\n",
    "# 300 피쳐, 40 워드, 10개 텍스트\n",
    "model_name = '300features_40minwords_10text'\n",
    "# model_name = '300features_50minwords_20text'\n",
    "model.save(model_name)"
   ]
  },
  {
   "cell_type": "markdown",
   "metadata": {
    "colab_type": "text",
    "id": "Z1fAdTz-FTo2"
   },
   "source": [
    "## **학습된 모델 결과 탐색**\n",
    "Exploring the Model Results"
   ]
  },
  {
   "cell_type": "code",
   "execution_count": 17,
   "metadata": {
    "colab": {
     "base_uri": "https://localhost:8080/",
     "height": 36
    },
    "colab_type": "code",
    "id": "gPk25UtDFTo2",
    "outputId": "c82ae5be-de36-44d3-fd4c-26160504b911"
   },
   "outputs": [
    {
     "data": {
      "text/plain": [
       "'kitchen'"
      ]
     },
     "execution_count": 17,
     "metadata": {
      "tags": []
     },
     "output_type": "execute_result"
    }
   ],
   "source": [
    "# 유사도가 없는 단어 추출\n",
    "model.wv.doesnt_match('man woman child kitchen'.split())"
   ]
  },
  {
   "cell_type": "code",
   "execution_count": 18,
   "metadata": {
    "colab": {
     "base_uri": "https://localhost:8080/",
     "height": 54
    },
    "colab_type": "code",
    "id": "M1gQ4YhuFTo7",
    "outputId": "8973b3a3-903f-4386-d049-6d91dbe5a6e6"
   },
   "outputs": [
    {
     "name": "stderr",
     "output_type": "stream",
     "text": [
      "2020-05-09 09:57:19,411 : WARNING : vectors for words {'france', 'germany'} are not present in the model, ignoring these words\n"
     ]
    },
    {
     "data": {
      "text/plain": [
       "'berlin'"
      ]
     },
     "execution_count": 18,
     "metadata": {
      "tags": []
     },
     "output_type": "execute_result"
    }
   ],
   "source": [
    "# 유사도가 없는 단어 추출\n",
    "model.wv.doesnt_match(\"france england germany berlin\".split())"
   ]
  },
  {
   "cell_type": "code",
   "execution_count": 19,
   "metadata": {
    "colab": {
     "base_uri": "https://localhost:8080/",
     "height": 204
    },
    "colab_type": "code",
    "id": "knokm-5gFTpA",
    "outputId": "03993723-5fa0-4e5b-974a-f4d5d3db66a9"
   },
   "outputs": [
    {
     "data": {
      "text/plain": [
       "[('woman', 0.6363323926925659),\n",
       " ('lad', 0.5263879299163818),\n",
       " ('businessman', 0.5169994235038757),\n",
       " ('ladi', 0.508272647857666),\n",
       " ('farmer', 0.5036577582359314),\n",
       " ('millionair', 0.49278706312179565),\n",
       " ('men', 0.46815621852874756),\n",
       " ('widow', 0.46230781078338623),\n",
       " ('policeman', 0.45175474882125854),\n",
       " ('doctor', 0.4504951238632202)]"
      ]
     },
     "execution_count": 19,
     "metadata": {
      "tags": []
     },
     "output_type": "execute_result"
    }
   ],
   "source": [
    "# 가장 유사한 단어를 추출(man과 가장 유사한 단어)\n",
    "model.wv.most_similar(\"man\")"
   ]
  },
  {
   "cell_type": "code",
   "execution_count": 20,
   "metadata": {
    "colab": {
     "base_uri": "https://localhost:8080/",
     "height": 204
    },
    "colab_type": "code",
    "id": "oobih8r4FTpC",
    "outputId": "784885ae-0656-4719-c52d-b727e06da37a"
   },
   "outputs": [
    {
     "data": {
      "text/plain": [
       "[('princess', 0.6072893142700195),\n",
       " ('latifah', 0.5911942720413208),\n",
       " ('madam', 0.5570789575576782),\n",
       " ('victoria', 0.5464317202568054),\n",
       " ('mistress', 0.5448079705238342),\n",
       " ('princ', 0.5388011336326599),\n",
       " ('regina', 0.5368452072143555),\n",
       " ('elizabeth', 0.5329747796058655),\n",
       " ('countess', 0.5325034856796265),\n",
       " ('maid', 0.5292332172393799)]"
      ]
     },
     "execution_count": 20,
     "metadata": {
      "tags": []
     },
     "output_type": "execute_result"
    }
   ],
   "source": [
    "# queen과 유사한 단어 추출\n",
    "model.wv.most_similar(\"queen\")"
   ]
  },
  {
   "cell_type": "code",
   "execution_count": null,
   "metadata": {
    "colab": {},
    "colab_type": "code",
    "id": "iE6g0RK7FTpF"
   },
   "outputs": [],
   "source": [
    "# model.wv.most_similar(\"awful\")"
   ]
  },
  {
   "cell_type": "code",
   "execution_count": 22,
   "metadata": {
    "colab": {
     "base_uri": "https://localhost:8080/",
     "height": 204
    },
    "colab_type": "code",
    "id": "YiXcdWwrFTpI",
    "outputId": "964b603e-1734-46d2-8a54-f935f7a538cd",
    "scrolled": true
   },
   "outputs": [
    {
     "data": {
      "text/plain": [
       "[('movi', 0.8549802303314209),\n",
       " ('flick', 0.6174076795578003),\n",
       " ('documentari', 0.5638319253921509),\n",
       " ('pictur', 0.5470646023750305),\n",
       " ('cinema', 0.5359971523284912),\n",
       " ('it', 0.49709799885749817),\n",
       " ('masterpiec', 0.4902923107147217),\n",
       " ('sequel', 0.482315331697464),\n",
       " ('thriller', 0.4768502116203308),\n",
       " ('genr', 0.4761434495449066)]"
      ]
     },
     "execution_count": 22,
     "metadata": {
      "tags": []
     },
     "output_type": "execute_result"
    }
   ],
   "source": [
    "model.wv.most_similar(\"film\") # film과 관련된 단어"
   ]
  },
  {
   "cell_type": "code",
   "execution_count": 23,
   "metadata": {
    "colab": {
     "base_uri": "https://localhost:8080/",
     "height": 204
    },
    "colab_type": "code",
    "id": "_KzATB9uFTpN",
    "outputId": "89152a87-903b-464f-ce50-3fef6207ca33"
   },
   "outputs": [
    {
     "data": {
      "text/plain": [
       "[('unhappi', 0.4226328730583191),\n",
       " ('optimist', 0.40227383375167847),\n",
       " ('bitter', 0.3926698863506317),\n",
       " ('happier', 0.3914393186569214),\n",
       " ('sad', 0.3896266222000122),\n",
       " ('glad', 0.3872493505477905),\n",
       " ('satisfi', 0.383562833070755),\n",
       " ('afraid', 0.3760886788368225),\n",
       " ('upset', 0.36757194995880127),\n",
       " ('joy', 0.35645073652267456)]"
      ]
     },
     "execution_count": 23,
     "metadata": {
      "tags": []
     },
     "output_type": "execute_result"
    }
   ],
   "source": [
    "# model.wv.most_similar(\"happy\")\n",
    "model.wv.most_similar(\"happi\") # stemming 처리 시 "
   ]
  },
  {
   "cell_type": "markdown",
   "metadata": {
    "colab_type": "text",
    "id": "C1FK5hKhFTpR"
   },
   "source": [
    "### **Word2Vec으로 벡터화 한 단어를 t-SNE 를 통해 시각화**"
   ]
  },
  {
   "cell_type": "code",
   "execution_count": 24,
   "metadata": {
    "colab": {
     "base_uri": "https://localhost:8080/",
     "height": 204
    },
    "colab_type": "code",
    "id": "2xtMxWifFTpS",
    "outputId": "11205203-9c57-40f0-dfa1-aebb07e6fb8c"
   },
   "outputs": [
    {
     "name": "stderr",
     "output_type": "stream",
     "text": [
      "2020-05-09 09:57:19,550 : INFO : loading Doc2Vec object from 300features_40minwords_10text\n",
      "2020-05-09 09:57:19,785 : INFO : loading wv recursively from 300features_40minwords_10text.wv.* with mmap=None\n",
      "2020-05-09 09:57:19,785 : INFO : setting ignored attribute vectors_norm to None\n",
      "2020-05-09 09:57:19,786 : INFO : loading vocabulary recursively from 300features_40minwords_10text.vocabulary.* with mmap=None\n",
      "2020-05-09 09:57:19,788 : INFO : loading trainables recursively from 300features_40minwords_10text.trainables.* with mmap=None\n",
      "2020-05-09 09:57:19,791 : INFO : setting ignored attribute cum_table to None\n",
      "2020-05-09 09:57:19,792 : INFO : loaded 300features_40minwords_10text\n"
     ]
    },
    {
     "name": "stdout",
     "output_type": "stream",
     "text": [
      "11986\n",
      "[ 0.10242935 -0.00230573 -0.01751577  0.01276526  0.00506349 -0.03228248\n",
      " -0.00545266 -0.02136417  0.00433107 -0.02681497]\n"
     ]
    }
   ],
   "source": [
    "# 참고 https://stackoverflow.com/questions/43776572/visualise-word2vec-generated-from-gensim\n",
    "from sklearn.manifold import TSNE # TSNE\n",
    "import matplotlib as mpl\n",
    "import matplotlib.pyplot as plt\n",
    "import gensim \n",
    "import gensim.models as g\n",
    "\n",
    "# 그래프에서 마이너스 폰트 깨지는 문제에 대한 대처\n",
    "mpl.rcParams['axes.unicode_minus'] = False\n",
    "\n",
    "model_name = '300features_40minwords_10text'\n",
    "model = g.Doc2Vec.load(model_name)\n",
    "\n",
    "vocab = list(model.wv.vocab)\n",
    "X = model[vocab]\n",
    "\n",
    "print(len(X)) # feauture 갯수\n",
    "print(X[0][:10]) # 0~10 데이터\n",
    "tsne = TSNE(n_components=2)\n",
    "\n",
    "# 100개의 단어에 대해서만 시각화하기 위해 데이터를 따로 저장\n",
    "X_tsne = tsne.fit_transform(X[:100,:])\n",
    "# X_tsne = tsne.fit_transform(X)"
   ]
  },
  {
   "cell_type": "code",
   "execution_count": 25,
   "metadata": {
    "colab": {
     "base_uri": "https://localhost:8080/",
     "height": 36
    },
    "colab_type": "code",
    "id": "Mkwbv94BFTpU",
    "outputId": "e944440d-688c-4db2-e7f0-7cd9b7a72ca4"
   },
   "outputs": [
    {
     "data": {
      "text/plain": [
       "(100, 2)"
      ]
     },
     "execution_count": 25,
     "metadata": {
      "tags": []
     },
     "output_type": "execute_result"
    }
   ],
   "source": [
    "# 각 단어가 어디에 위치하는지 x, y 좌표로 출력\n",
    "df = pd.DataFrame(X_tsne, index=vocab[:100], columns=['x', 'y'])\n",
    "df.shape"
   ]
  },
  {
   "cell_type": "code",
   "execution_count": 26,
   "metadata": {
    "colab": {
     "base_uri": "https://localhost:8080/",
     "height": 363
    },
    "colab_type": "code",
    "id": "q7gTSeucFTpY",
    "outputId": "98a47404-47eb-4b84-eeca-97e98f52ef92"
   },
   "outputs": [
    {
     "data": {
      "text/html": [
       "<div>\n",
       "<style scoped>\n",
       "    .dataframe tbody tr th:only-of-type {\n",
       "        vertical-align: middle;\n",
       "    }\n",
       "\n",
       "    .dataframe tbody tr th {\n",
       "        vertical-align: top;\n",
       "    }\n",
       "\n",
       "    .dataframe thead th {\n",
       "        text-align: right;\n",
       "    }\n",
       "</style>\n",
       "<table border=\"1\" class=\"dataframe\">\n",
       "  <thead>\n",
       "    <tr style=\"text-align: right;\">\n",
       "      <th></th>\n",
       "      <th>x</th>\n",
       "      <th>y</th>\n",
       "    </tr>\n",
       "  </thead>\n",
       "  <tbody>\n",
       "    <tr>\n",
       "      <th>with</th>\n",
       "      <td>-6.430559</td>\n",
       "      <td>4.855850</td>\n",
       "    </tr>\n",
       "    <tr>\n",
       "      <th>all</th>\n",
       "      <td>-0.647140</td>\n",
       "      <td>4.624850</td>\n",
       "    </tr>\n",
       "    <tr>\n",
       "      <th>this</th>\n",
       "      <td>0.936527</td>\n",
       "      <td>2.119292</td>\n",
       "    </tr>\n",
       "    <tr>\n",
       "      <th>stuff</th>\n",
       "      <td>-0.583676</td>\n",
       "      <td>6.110028</td>\n",
       "    </tr>\n",
       "    <tr>\n",
       "      <th>go</th>\n",
       "      <td>4.970709</td>\n",
       "      <td>6.164311</td>\n",
       "    </tr>\n",
       "    <tr>\n",
       "      <th>down</th>\n",
       "      <td>-9.477961</td>\n",
       "      <td>3.517728</td>\n",
       "    </tr>\n",
       "    <tr>\n",
       "      <th>at</th>\n",
       "      <td>-7.443879</td>\n",
       "      <td>3.011360</td>\n",
       "    </tr>\n",
       "    <tr>\n",
       "      <th>the</th>\n",
       "      <td>-2.788138</td>\n",
       "      <td>4.884051</td>\n",
       "    </tr>\n",
       "    <tr>\n",
       "      <th>moment</th>\n",
       "      <td>0.988520</td>\n",
       "      <td>-4.953186</td>\n",
       "    </tr>\n",
       "    <tr>\n",
       "      <th>mj</th>\n",
       "      <td>-4.509189</td>\n",
       "      <td>-4.573292</td>\n",
       "    </tr>\n",
       "  </tbody>\n",
       "</table>\n",
       "</div>"
      ],
      "text/plain": [
       "               x         y\n",
       "with   -6.430559  4.855850\n",
       "all    -0.647140  4.624850\n",
       "this    0.936527  2.119292\n",
       "stuff  -0.583676  6.110028\n",
       "go      4.970709  6.164311\n",
       "down   -9.477961  3.517728\n",
       "at     -7.443879  3.011360\n",
       "the    -2.788138  4.884051\n",
       "moment  0.988520 -4.953186\n",
       "mj     -4.509189 -4.573292"
      ]
     },
     "execution_count": 26,
     "metadata": {
      "tags": []
     },
     "output_type": "execute_result"
    }
   ],
   "source": [
    "df.head(10)"
   ]
  },
  {
   "cell_type": "code",
   "execution_count": 27,
   "metadata": {
    "colab": {
     "base_uri": "https://localhost:8080/",
     "height": 485
    },
    "colab_type": "code",
    "id": "gSk1MXrrFTpa",
    "outputId": "b13830f7-db9d-48f2-b2b4-effa8ccbff00"
   },
   "outputs": [
    {
     "data": {
      "image/png": "[encoded data removed]",
      "text/plain": [
       "<Figure size 2880x1440 with 1 Axes>"
      ]
     },
     "metadata": {
      "needs_background": "light",
      "tags": []
     },
     "output_type": "display_data"
    }
   ],
   "source": [
    "# 각 단어들이 어디에 위치하는지 그래프로 시각화\n",
    "fig = plt.figure()\n",
    "fig.set_size_inches(40, 20)\n",
    "ax = fig.add_subplot(1, 1, 1)\n",
    "\n",
    "ax.scatter(df['x'], df['y'])\n",
    "\n",
    "for word, pos in df.iterrows():\n",
    "    ax.annotate(word, pos, fontsize=30)\n",
    "plt.show()"
   ]
  },
  {
   "cell_type": "markdown",
   "metadata": {
    "colab_type": "text",
    "id": "CW-HM4Tk0QSP"
   },
   "source": [
    "## **[3/3] 평균 feature vector 구하기**\n",
    "\n",
    "- 벡터화 된 단어를 바탕으로 train 데이터와 test 데이터에 대서 모델에서 대한 각각의 평균 feature 벡터를 계산해서 2차원 넘파이 배열에 넣어준다.\n",
    "\n",
    "- 2차원 배열을 랜덤 포레스트로 학습시키고, 테스트 데이터의 sentiment를 예측해볼 것이다."
   ]
  },
  {
   "cell_type": "code",
   "execution_count": null,
   "metadata": {
    "colab": {},
    "colab_type": "code",
    "id": "QCaS8H5MFTpd"
   },
   "outputs": [],
   "source": [
    "import numpy as np\n",
    "\n",
    "def makeFeatureVec(words, model, num_features):\n",
    "    \"\"\"\n",
    "    주어진 문장에서 단어 벡터의 평균을 구하는 함수\n",
    "    \"\"\"\n",
    "    # 속도를 위해 0으로 채운 배열로 초기화 한다.\n",
    "    featureVec = np.zeros((num_features,),dtype=\"float32\")\n",
    "\n",
    "    nwords = 0.\n",
    "    # Index2word는 모델의 사전에 있는 단어명을 담은 리스트이다.\n",
    "    # 속도를 위해 set 형태로 초기화 한다.\n",
    "    index2word_set = set(model.wv.index2word)\n",
    "    # 루프를 돌며 모델 사전에 포함이 되는 단어라면 피처에 추가한다.\n",
    "    for word in words:\n",
    "        if word in index2word_set:\n",
    "            nwords = nwords + 1.\n",
    "            featureVec = np.add(featureVec,model[word])\n",
    "    # 결과를 단어수로 나누어 평균을 구한다.\n",
    "    featureVec = np.divide(featureVec,nwords)\n",
    "    return featureVec"
   ]
  },
  {
   "cell_type": "code",
   "execution_count": null,
   "metadata": {
    "colab": {},
    "colab_type": "code",
    "id": "NDluXHimFTph"
   },
   "outputs": [],
   "source": [
    "def getAvgFeatureVecs(reviews, model, num_features):\n",
    "    # 리뷰 단어 목록의 각각에 대한 평균 feature 벡터를 계산하고 \n",
    "    # 2D numpy 배열을 반환한다.\n",
    "    \n",
    "    # 카운터를 초기화 한다.\n",
    "    counter = 0.\n",
    "    # 속도를 위해 2D 넘파이 배열을 미리 할당한다.\n",
    "    reviewFeatureVecs = np.zeros(\n",
    "        (len(reviews),num_features),dtype=\"float32\")\n",
    "    \n",
    "    for review in reviews:\n",
    "       # 매 1000개 리뷰마다 상태를 출력\n",
    "       if counter%1000. == 0.:\n",
    "           print(\"Review %d of %d\" % (counter, len(reviews)))\n",
    "       # 평균 피처 벡터를 만들기 위해 위에서 정의한 함수를 호출한다.\n",
    "       reviewFeatureVecs[int(counter)] = makeFeatureVec(review, model, \\\n",
    "           num_features)\n",
    "       # 카운터를 증가시킨다.\n",
    "       counter = counter + 1.\n",
    "    return reviewFeatureVecs"
   ]
  },
  {
   "cell_type": "code",
   "execution_count": null,
   "metadata": {
    "colab": {},
    "colab_type": "code",
    "id": "eFBOaIQCFTpk"
   },
   "outputs": [],
   "source": [
    "# 멀티스레드로 4개의 워커를 사용해 처리한다.\n",
    "def getCleanReviews(reviews):\n",
    "    clean_reviews = []\n",
    "    clean_reviews = KaggleWord2VecUtility.apply_by_multiprocessing(\\\n",
    "        reviews[\"review\"], KaggleWord2VecUtility.review_to_wordlist,\\\n",
    "        workers=4)\n",
    "    return clean_reviews"
   ]
  },
  {
   "cell_type": "code",
   "execution_count": 31,
   "metadata": {
    "colab": {
     "base_uri": "https://localhost:8080/",
     "height": 522
    },
    "colab_type": "code",
    "id": "Xjlo1T3_FTpm",
    "outputId": "d5084f43-f31e-40f7-8226-f2e28e3dd69b"
   },
   "outputs": [
    {
     "name": "stdout",
     "output_type": "stream",
     "text": [
      "Review 0 of 25000\n",
      "Review 1000 of 25000\n",
      "Review 2000 of 25000\n",
      "Review 3000 of 25000\n",
      "Review 4000 of 25000\n",
      "Review 5000 of 25000\n",
      "Review 6000 of 25000\n",
      "Review 7000 of 25000\n",
      "Review 8000 of 25000\n",
      "Review 9000 of 25000\n",
      "Review 10000 of 25000\n",
      "Review 11000 of 25000\n",
      "Review 12000 of 25000\n",
      "Review 13000 of 25000\n",
      "Review 14000 of 25000\n",
      "Review 15000 of 25000\n",
      "Review 16000 of 25000\n",
      "Review 17000 of 25000\n",
      "Review 18000 of 25000\n",
      "Review 19000 of 25000\n",
      "Review 20000 of 25000\n",
      "Review 21000 of 25000\n",
      "Review 22000 of 25000\n",
      "Review 23000 of 25000\n",
      "Review 24000 of 25000\n",
      "CPU times: user 41.4 s, sys: 991 ms, total: 42.4 s\n",
      "Wall time: 1min 36s\n"
     ]
    }
   ],
   "source": [
    "# trainData에 대해 정제를 하고 평균 피쳐 벡터를 구해 준다\n",
    "%time trainDataVecs = getAvgFeatureVecs(\\\n",
    "    getCleanReviews(train), model, num_features ) "
   ]
  },
  {
   "cell_type": "code",
   "execution_count": 32,
   "metadata": {
    "colab": {
     "base_uri": "https://localhost:8080/",
     "height": 522
    },
    "colab_type": "code",
    "id": "WJ4CnAE6FTpp",
    "outputId": "69d4b123-bdc4-48a8-da7b-d28b13912824"
   },
   "outputs": [
    {
     "name": "stdout",
     "output_type": "stream",
     "text": [
      "Review 0 of 25000\n",
      "Review 1000 of 25000\n",
      "Review 2000 of 25000\n",
      "Review 3000 of 25000\n",
      "Review 4000 of 25000\n",
      "Review 5000 of 25000\n",
      "Review 6000 of 25000\n",
      "Review 7000 of 25000\n",
      "Review 8000 of 25000\n",
      "Review 9000 of 25000\n",
      "Review 10000 of 25000\n",
      "Review 11000 of 25000\n",
      "Review 12000 of 25000\n",
      "Review 13000 of 25000\n",
      "Review 14000 of 25000\n",
      "Review 15000 of 25000\n",
      "Review 16000 of 25000\n",
      "Review 17000 of 25000\n",
      "Review 18000 of 25000\n",
      "Review 19000 of 25000\n",
      "Review 20000 of 25000\n",
      "Review 21000 of 25000\n",
      "Review 22000 of 25000\n",
      "Review 23000 of 25000\n",
      "Review 24000 of 25000\n",
      "CPU times: user 41 s, sys: 776 ms, total: 41.8 s\n",
      "Wall time: 1min 35s\n"
     ]
    }
   ],
   "source": [
    "# trainData에 대해 정제를 하고 평균 피쳐 벡터를 구해 준다\n",
    "%time testDataVecs = getAvgFeatureVecs(\\\n",
    "        getCleanReviews(test), model, num_features )"
   ]
  },
  {
   "cell_type": "code",
   "execution_count": null,
   "metadata": {
    "colab": {},
    "colab_type": "code",
    "id": "eW7_G5QzFTps"
   },
   "outputs": [],
   "source": [
    "# 랜덤 포레스트 분류기로 학습\n",
    "from sklearn.ensemble import RandomForestClassifier\n",
    "\n",
    "forest = RandomForestClassifier(\n",
    "    n_estimators = 100, n_jobs = -1, random_state=2018)"
   ]
  },
  {
   "cell_type": "code",
   "execution_count": 34,
   "metadata": {
    "colab": {
     "base_uri": "https://localhost:8080/",
     "height": 54
    },
    "colab_type": "code",
    "id": "McDHRuccFTpu",
    "outputId": "b68105c2-03b7-4304-df3c-711c6535d63a"
   },
   "outputs": [
    {
     "name": "stdout",
     "output_type": "stream",
     "text": [
      "CPU times: user 55.3 s, sys: 41.7 ms, total: 55.3 s\n",
      "Wall time: 28.2 s\n"
     ]
    }
   ],
   "source": [
    "# trainDataVec과 train sentiment로 학습\n",
    "%time forest = forest.fit( trainDataVecs, train[\"sentiment\"] )"
   ]
  },
  {
   "cell_type": "code",
   "execution_count": 35,
   "metadata": {
    "colab": {
     "base_uri": "https://localhost:8080/",
     "height": 54
    },
    "colab_type": "code",
    "id": "G0oBguW7FTp6",
    "outputId": "816b35de-772a-44fa-89d7-2fde7b2f06b7"
   },
   "outputs": [
    {
     "name": "stdout",
     "output_type": "stream",
     "text": [
      "CPU times: user 4.01 s, sys: 571 ms, total: 4.58 s\n",
      "Wall time: 4min 17s\n"
     ]
    }
   ],
   "source": [
    "from sklearn.model_selection import cross_val_score\n",
    "%time score = np.mean(cross_val_score(\\\n",
    "    forest, trainDataVecs, \\\n",
    "    train['sentiment'], cv=10, scoring='roc_auc'))"
   ]
  },
  {
   "cell_type": "code",
   "execution_count": 36,
   "metadata": {
    "colab": {
     "base_uri": "https://localhost:8080/",
     "height": 36
    },
    "colab_type": "code",
    "id": "df9Pr2BKFTp9",
    "outputId": "0545f9d0-1772-46b1-cfa7-b0dc9ac4d695"
   },
   "outputs": [
    {
     "data": {
      "text/plain": [
       "0.9005779200000001"
      ]
     },
     "execution_count": 36,
     "metadata": {
      "tags": []
     },
     "output_type": "execute_result"
    }
   ],
   "source": [
    "score"
   ]
  },
  {
   "cell_type": "code",
   "execution_count": null,
   "metadata": {
    "colab": {},
    "colab_type": "code",
    "id": "BEDYAa70FTqB"
   },
   "outputs": [],
   "source": [
    "result = forest.predict( testDataVecs ) # 학습시킨 데이터를 바탕으로 예측"
   ]
  },
  {
   "cell_type": "code",
   "execution_count": 39,
   "metadata": {
    "colab": {
     "base_uri": "https://localhost:8080/",
     "height": 187
    },
    "colab_type": "code",
    "id": "i2ACoaYlFTqE",
    "outputId": "53a9c70b-e518-4a56-83e9-866e596deb4c"
   },
   "outputs": [
    {
     "name": "stdout",
     "output_type": "stream",
     "text": [
      "Go to this URL in a browser: https://accounts.google.com/o/oauth2/auth?client_id=947318989803-6bn6qk8qdgf4n4g3pfee6491hc0brc4i.apps.googleusercontent.com&redirect_uri=urn%3aietf%3awg%3aoauth%3a2.0%3aoob&response_type=code&scope=email%20https%3a%2f%2fwww.googleapis.com%2fauth%2fdocs.test%20https%3a%2f%2fwww.googleapis.com%2fauth%2fdrive%20https%3a%2f%2fwww.googleapis.com%2fauth%2fdrive.photos.readonly%20https%3a%2f%2fwww.googleapis.com%2fauth%2fpeopleapi.readonly\n",
      "\n",
      "Enter your authorization code:\n",
      "··········\n",
      "Mounted at /content/drive\n",
      "total 553\n",
      "-rw------- 1 root root 282792 May  9 05:49 tutorial_1_BOW_0.92761.csv\n",
      "-rw------- 1 root root 282792 May  9 10:23 Word2Vec_AverageVectors_0.90058.csv\n"
     ]
    }
   ],
   "source": [
    "# 케글에 제출하기 위한 output data\n",
    "\n",
    "# 구글 드라이브 사용\n",
    "from google.colab import drive\n",
    "drive.mount('/content/drive')\n",
    "\n",
    "\n",
    "output = pd.DataFrame( data={\"id\":test[\"id\"], \"sentiment\":result} )\n",
    "output.to_csv('/content/drive/My Drive/Colab Notebooks/data/Word2Vec_AverageVectors_{0:.5f}.csv'.format(score), \n",
    "              index=False, quoting=3 )\n",
    "!ls -Fcal '/content/drive/My Drive/Colab Notebooks/data'"
   ]
  },
  {
   "cell_type": "markdown",
   "metadata": {
    "colab_type": "text",
    "id": "lLmr5mJ6FTqH"
   },
   "source": [
    "* 300features_40minwords_10text 일 때 0.90709436799999987\n",
    "* 300features_50minwords_20text 일 때 0.86815798399999999"
   ]
  },
  {
   "cell_type": "code",
   "execution_count": 40,
   "metadata": {
    "colab": {
     "base_uri": "https://localhost:8080/",
     "height": 92
    },
    "colab_type": "code",
    "id": "0xX01wREFTqI",
    "outputId": "22ccd215-c4c7-4bd1-e3ec-96a8c1e9c1fa"
   },
   "outputs": [
    {
     "name": "stdout",
     "output_type": "stream",
     "text": [
      "150\n"
     ]
    },
    {
     "data": {
      "text/plain": [
       "0    12575\n",
       "1    12425\n",
       "Name: sentiment, dtype: int64"
      ]
     },
     "execution_count": 40,
     "metadata": {
      "tags": []
     },
     "output_type": "execute_result"
    }
   ],
   "source": [
    "output_sentiment = output['sentiment'].value_counts()\n",
    "print(output_sentiment[0] - output_sentiment[1])\n",
    "output_sentiment"
   ]
  },
  {
   "cell_type": "code",
   "execution_count": 41,
   "metadata": {
    "colab": {
     "base_uri": "https://localhost:8080/",
     "height": 353
    },
    "colab_type": "code",
    "id": "XstLFPG8FTqK",
    "outputId": "4ef413be-5707-48d9-c721-1db5c69712c1"
   },
   "outputs": [
    {
     "data": {
      "text/plain": [
       "<matplotlib.axes._subplots.AxesSubplot at 0x7f477b037dd8>"
      ]
     },
     "execution_count": 41,
     "metadata": {
      "tags": []
     },
     "output_type": "execute_result"
    },
    {
     "data": {
      "image/png": "[encoded data removed]",
      "text/plain": [
       "<Figure size 864x360 with 2 Axes>"
      ]
     },
     "metadata": {
      "needs_background": "light",
      "tags": []
     },
     "output_type": "display_data"
    }
   ],
   "source": [
    "import seaborn as sns \n",
    "%matplotlib inline\n",
    "\n",
    "fig, axes = plt.subplots(ncols=2)\n",
    "fig.set_size_inches(12,5)\n",
    "sns.countplot(train['sentiment'], ax=axes[0])\n",
    "sns.countplot(output['sentiment'], ax=axes[1])"
   ]
  },
  {
   "cell_type": "code",
   "execution_count": null,
   "metadata": {
    "colab": {},
    "colab_type": "code",
    "id": "ocJ3FtUtFTqO"
   },
   "outputs": [],
   "source": []
  }
 ],
 "metadata": {
  "accelerator": "GPU",
  "colab": {
   "name": "tutorial-part-2.ipynb",
   "provenance": []
  },
  "kernelspec": {
   "display_name": "Python 3",
   "language": "python",
   "name": "python3"
  },
  "language_info": {
   "codemirror_mode": {
    "name": "ipython",
    "version": 3
   },
   "file_extension": ".py",
   "mimetype": "text/x-python",
   "name": "python",
   "nbconvert_exporter": "python",
   "pygments_lexer": "ipython3",
   "version": "3.7.6"
  }
 },
 "nbformat": 4,
 "nbformat_minor": 4
}
