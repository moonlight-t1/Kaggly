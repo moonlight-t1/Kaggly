{
  "nbformat": 4,
  "nbformat_minor": 0,
  "metadata": {
    "colab": {
      "name": "Untitled5.ipynb",
      "private_outputs": true,
      "provenance": [],
      "authorship_tag": "ABX9TyOVlCPeV2QdQbnMkfqsIbrW",
      "include_colab_link": true
    },
    "kernelspec": {
      "name": "python3",
      "display_name": "Python 3"
    },
    "language_info": {
      "name": "python"
    }
  },
  "cells": [
    {
      "cell_type": "markdown",
      "metadata": {
        "id": "view-in-github",
        "colab_type": "text"
      },
      "source": [
        "<a href=\"https://colab.research.google.com/github/t1seo/Kaggly/blob/master/Dacon/todays_python/lv1_eda.ipynb\" target=\"_parent\"><img src=\"https://colab.research.google.com/assets/colab-badge.svg\" alt=\"Open In Colab\"/></a>"
      ]
    },
    {
      "cell_type": "markdown",
      "metadata": {
        "id": "HXQymp7JHiNL"
      },
      "source": [
        "# Lv1 EDA"
      ]
    },
    {
      "cell_type": "markdown",
      "metadata": {
        "id": "JAqcVKFCJPCY"
      },
      "source": [
        "## Lv1_EDA_1/5_라이브러리불러오기(import)"
      ]
    },
    {
      "cell_type": "code",
      "metadata": {
        "id": "7tCr4EowJTIH"
      },
      "source": [
        "import pandas as pd"
      ],
      "execution_count": null,
      "outputs": []
    },
    {
      "cell_type": "markdown",
      "metadata": {
        "id": "5DdsQxmTJVwK"
      },
      "source": [
        "## Lv1_EDA_2/5_파일 불러오기(read_csv)"
      ]
    },
    {
      "cell_type": "markdown",
      "metadata": {
        "id": "F-TWcSUgJbIb"
      },
      "source": [
        "### 데이터 다운로드"
      ]
    },
    {
      "cell_type": "code",
      "metadata": {
        "id": "3pMhD8T1JfEi"
      },
      "source": [
        "# 데이터 다운로드 링크로 데이터를 코랩에 불러옵니다.\n",
        "\n",
        "!wget 'https://bit.ly/3pjNvR3'\n",
        "\n",
        "import zipfile\n",
        "with zipfile.ZipFile('3pjNvR3', 'r') as existing_zip:\n",
        "    existing_zip.extractall('data')"
      ],
      "execution_count": null,
      "outputs": []
    },
    {
      "cell_type": "code",
      "metadata": {
        "id": "B6hmRYLJJgsT"
      },
      "source": [
        "train = pd.read_csv('data/train.csv')\n",
        "test = pd.read_csv('data/test.csv')"
      ],
      "execution_count": null,
      "outputs": []
    },
    {
      "cell_type": "code",
      "metadata": {
        "id": "JTwPv_PvJtnf"
      },
      "source": [
        "train.shape"
      ],
      "execution_count": null,
      "outputs": []
    },
    {
      "cell_type": "code",
      "metadata": {
        "id": "affhkKVmJnrd"
      },
      "source": [
        "train.head()"
      ],
      "execution_count": null,
      "outputs": []
    },
    {
      "cell_type": "code",
      "metadata": {
        "id": "HHkMEaulJo6m"
      },
      "source": [
        "train.info()"
      ],
      "execution_count": null,
      "outputs": []
    },
    {
      "cell_type": "code",
      "metadata": {
        "id": "PLwgQ9VnJqDg"
      },
      "source": [
        "train.describe()"
      ],
      "execution_count": null,
      "outputs": []
    },
    {
      "cell_type": "markdown",
      "metadata": {
        "id": "nTBhw7zuJsdC"
      },
      "source": [
        "## Lv1_EDA_3/5_행열갯수관찰하기(shape)"
      ]
    },
    {
      "cell_type": "code",
      "metadata": {
        "id": "NSDoempwJ0s7"
      },
      "source": [
        "train.shape"
      ],
      "execution_count": null,
      "outputs": []
    },
    {
      "cell_type": "code",
      "metadata": {
        "id": "cPzwQpR_J14s"
      },
      "source": [
        "test.shape"
      ],
      "execution_count": null,
      "outputs": []
    },
    {
      "cell_type": "code",
      "metadata": {
        "id": "yd29ZyzuJ2ld"
      },
      "source": [
        ""
      ],
      "execution_count": null,
      "outputs": []
    }
  ]
}