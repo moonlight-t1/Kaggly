{
  "nbformat": 4,
  "nbformat_minor": 0,
  "metadata": {
    "colab": {
      "name": "Untitled5.ipynb",
      "private_outputs": true,
      "provenance": [],
      "authorship_tag": "ABX9TyMfsyJ0jRsIUy2HlSwgmXZs",
      "include_colab_link": true
    },
    "kernelspec": {
      "name": "python3",
      "display_name": "Python 3"
    },
    "language_info": {
      "name": "python"
    }
  },
  "cells": [
    {
      "cell_type": "markdown",
      "metadata": {
        "id": "view-in-github",
        "colab_type": "text"
      },
      "source": [
        "<a href=\"https://colab.research.google.com/github/t1seo/Kaggly/blob/master/Dacon/today's_python/lv1_eda.ipynb\" target=\"_parent\"><img src=\"https://colab.research.google.com/assets/colab-badge.svg\" alt=\"Open In Colab\"/></a>"
      ]
    },
    {
      "cell_type": "markdown",
      "metadata": {
        "id": "HXQymp7JHiNL"
      },
      "source": [
        "# Lv1 EDA"
      ]
    },
    {
      "cell_type": "markdown",
      "metadata": {
        "id": "JAqcVKFCJPCY"
      },
      "source": [
        "## Lv1_EDA_1/5_라이브러리불러오기(import)"
      ]
    },
    {
      "cell_type": "code",
      "metadata": {
        "id": "7tCr4EowJTIH"
      },
      "source": [
        "import pandas as pd"
      ],
      "execution_count": null,
      "outputs": []
    },
    {
      "cell_type": "markdown",
      "metadata": {
        "id": "5DdsQxmTJVwK"
      },
      "source": [
        "## Lv1_EDA_2/5_파일 불러오기(read_csv)"
      ]
    },
    {
      "cell_type": "markdown",
      "metadata": {
        "id": "F-TWcSUgJbIb"
      },
      "source": [
        "### 데이터 다운로드"
      ]
    },
    {
      "cell_type": "code",
      "metadata": {
        "id": "3pMhD8T1JfEi"
      },
      "source": [
        "# 데이터 다운로드 링크로 데이터를 코랩에 불러옵니다.\n",
        "\n",
        "!wget 'https://bit.ly/3pjNvR3'\n",
        "\n",
        "import zipfile\n",
        "with zipfile.ZipFile('3pjNvR3', 'r') as existing_zip:\n",
        "    existing_zip.extractall('data')"
      ],
      "execution_count": null,
      "outputs": []
    },
    {
      "cell_type": "code",
      "metadata": {
        "id": "B6hmRYLJJgsT"
      },
      "source": [
        "train = pd.read_csv('data/train.csv')\n",
        "test = pd.read_csv('data/test.csv')"
      ],
      "execution_count": null,
      "outputs": []
    },
    {
      "cell_type": "code",
      "metadata": {
        "id": "JTwPv_PvJtnf"
      },
      "source": [
        "train.shape"
      ],
      "execution_count": null,
      "outputs": []
    },
    {
      "cell_type": "code",
      "metadata": {
        "id": "affhkKVmJnrd"
      },
      "source": [
        "train.head()"
      ],
      "execution_count": null,
      "outputs": []
    },
    {
      "cell_type": "code",
      "metadata": {
        "id": "HHkMEaulJo6m"
      },
      "source": [
        "train.info()"
      ],
      "execution_count": null,
      "outputs": []
    },
    {
      "cell_type": "code",
      "metadata": {
        "id": "PLwgQ9VnJqDg"
      },
      "source": [
        "train.describe()"
      ],
      "execution_count": null,
      "outputs": []
    },
    {
      "cell_type": "markdown",
      "metadata": {
        "id": "nTBhw7zuJsdC"
      },
      "source": [
        "## Lv1_EDA_3/5_행열갯수관찰하기(shape)"
      ]
    },
    {
      "cell_type": "code",
      "metadata": {
        "id": "NSDoempwJ0s7"
      },
      "source": [
        "train.shape"
      ],
      "execution_count": null,
      "outputs": []
    },
    {
      "cell_type": "code",
      "metadata": {
        "id": "cPzwQpR_J14s"
      },
      "source": [
        "test.shape"
      ],
      "execution_count": null,
      "outputs": []
    },
    {
      "cell_type": "markdown",
      "metadata": {
        "id": "yd29ZyzuJ2ld"
      },
      "source": [
        "## Lv1_EDA_4/5_데이터 확인하기(head())"
      ]
    },
    {
      "cell_type": "code",
      "metadata": {
        "id": "y7hN3orbNuSY"
      },
      "source": [
        "train.head()"
      ],
      "execution_count": null,
      "outputs": []
    },
    {
      "cell_type": "code",
      "metadata": {
        "id": "PwEtHoURNxD3"
      },
      "source": [
        "train.tail()"
      ],
      "execution_count": null,
      "outputs": []
    },
    {
      "cell_type": "markdown",
      "metadata": {
        "id": "OSoF29APN1iG"
      },
      "source": [
        "## Lv1_EDA_5/5_결측치 확인하기(is_null() )"
      ]
    },
    {
      "cell_type": "code",
      "metadata": {
        "id": "GO1Hi3EVdKZc"
      },
      "source": [
        "import pandas as pd\n",
        "import numpy as np\n",
        "\n",
        "df = pd.DataFrame({\n",
        "    'name' : ['kwon', 'park', 'kim'],\n",
        "    'age' : [30, np.nan, 19],\n",
        "    'class' : [np.nan, np.nan, 1]\n",
        "})\n",
        "\n",
        "df.isnull()"
      ],
      "execution_count": null,
      "outputs": []
    },
    {
      "cell_type": "code",
      "metadata": {
        "id": "YYhFVSisdabP"
      },
      "source": [
        "df.isnull().sum()"
      ],
      "execution_count": null,
      "outputs": []
    },
    {
      "cell_type": "code",
      "metadata": {
        "id": "ANhvtrrWdeIw"
      },
      "source": [
        "# 각 데이터의 결측치 여부\n",
        "print(train.isnull())"
      ],
      "execution_count": null,
      "outputs": []
    },
    {
      "cell_type": "code",
      "metadata": {
        "id": "AaiU0CGYdit8"
      },
      "source": [
        "# 데이터의 열별 결측치 수 확인\n",
        "print(train.isnull().sum())"
      ],
      "execution_count": null,
      "outputs": []
    },
    {
      "cell_type": "code",
      "metadata": {
        "id": "EHKt-gindvJH"
      },
      "source": [
        ""
      ],
      "execution_count": null,
      "outputs": []
    }
  ]
}