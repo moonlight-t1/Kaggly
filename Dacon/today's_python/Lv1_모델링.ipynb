{
  "nbformat": 4,
  "nbformat_minor": 0,
  "metadata": {
    "colab": {
      "name": "Untitled9.ipynb",
      "private_outputs": true,
      "provenance": [],
      "authorship_tag": "ABX9TyOnVCygPQQ4yPasp5wr34Q4",
      "include_colab_link": true
    },
    "kernelspec": {
      "name": "python3",
      "display_name": "Python 3"
    },
    "language_info": {
      "name": "python"
    }
  },
  "cells": [
    {
      "cell_type": "markdown",
      "metadata": {
        "id": "view-in-github",
        "colab_type": "text"
      },
      "source": [
        "<a href=\"https://colab.research.google.com/github/t1seo/Kaggly/blob/master/Dacon/today's_python/Lv1_%EB%AA%A8%EB%8D%B8%EB%A7%81.ipynb\" target=\"_parent\"><img src=\"https://colab.research.google.com/assets/colab-badge.svg\" alt=\"Open In Colab\"/></a>"
      ]
    },
    {
      "cell_type": "markdown",
      "metadata": {
        "id": "x03uG4CPkLzM"
      },
      "source": [
        "## Lv1_모델링_1/8_scikit-learn\n",
        "- [scikit-learn](https://scikit-learn.org/stable/)"
      ]
    },
    {
      "cell_type": "markdown",
      "metadata": {
        "id": "kXcebIvtkPDS"
      },
      "source": [
        "### import scikit-learn"
      ]
    },
    {
      "cell_type": "code",
      "metadata": {
        "id": "BHjdbVgRkaJw"
      },
      "source": [
        "import sklearn\n",
        "from sklearn.tree import DecisionTreeClassifier"
      ],
      "execution_count": null,
      "outputs": []
    },
    {
      "cell_type": "markdown",
      "metadata": {
        "id": "i4YTM0XEki2z"
      },
      "source": [
        "## Lv1 모델링 2/8 모델개념(의사결정나무)\n",
        "결정 트리는 의사 결정 규칙과 그 결과들을 트리 구조로 도식화한 의사 결정 지원 도구의 일종이다. 즉 스무고개 방식으로 구조화되는 것이다."
      ]
    },
    {
      "cell_type": "markdown",
      "metadata": {
        "id": "4z9qQKYVHyAM"
      },
      "source": [
        "## Lv1 모델링 3/8 모델선언(의사결정나무)"
      ]
    },
    {
      "cell_type": "code",
      "metadata": {
        "id": "nlxh3Oc7H4h-"
      },
      "source": [
        "model = DecisionTreeClassifier()"
      ],
      "execution_count": null,
      "outputs": []
    },
    {
      "cell_type": "code",
      "metadata": {
        "id": "TBtVngT_IJC1"
      },
      "source": [
        ""
      ],
      "execution_count": null,
      "outputs": []
    }
  ]
}