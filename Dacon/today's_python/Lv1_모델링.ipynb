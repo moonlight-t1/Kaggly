{
  "nbformat": 4,
  "nbformat_minor": 0,
  "metadata": {
    "colab": {
      "name": "Untitled9.ipynb",
      "private_outputs": true,
      "provenance": [],
      "authorship_tag": "ABX9TyPCwh6DBhb3bX1lfn2rY5bW",
      "include_colab_link": true
    },
    "kernelspec": {
      "name": "python3",
      "display_name": "Python 3"
    },
    "language_info": {
      "name": "python"
    }
  },
  "cells": [
    {
      "cell_type": "markdown",
      "metadata": {
        "id": "view-in-github",
        "colab_type": "text"
      },
      "source": [
        "<a href=\"https://colab.research.google.com/github/t1seo/Kaggly/blob/master/Dacon/today's_python/Lv1_%EB%AA%A8%EB%8D%B8%EB%A7%81.ipynb\" target=\"_parent\"><img src=\"https://colab.research.google.com/assets/colab-badge.svg\" alt=\"Open In Colab\"/></a>"
      ]
    },
    {
      "cell_type": "markdown",
      "metadata": {
        "id": "x03uG4CPkLzM"
      },
      "source": [
        "## Lv1_모델링_1/8_scikit-learn\n",
        "- [scikit-learn](https://scikit-learn.org/stable/)"
      ]
    },
    {
      "cell_type": "markdown",
      "metadata": {
        "id": "kXcebIvtkPDS"
      },
      "source": [
        "### import scikit-learn"
      ]
    },
    {
      "cell_type": "code",
      "metadata": {
        "id": "BHjdbVgRkaJw"
      },
      "source": [
        "import sklearn\n",
        "from sklearn.tree import DecisionTreeClassifier"
      ],
      "execution_count": null,
      "outputs": []
    },
    {
      "cell_type": "markdown",
      "metadata": {
        "id": "i4YTM0XEki2z"
      },
      "source": [
        "## Lv1 모델링 2/8 모델개념(의사결정나무)\n",
        "결정 트리는 의사 결정 규칙과 그 결과들을 트리 구조로 도식화한 의사 결정 지원 도구의 일종이다. 즉 스무고개 방식으로 구조화되는 것이다."
      ]
    },
    {
      "cell_type": "markdown",
      "metadata": {
        "id": "4z9qQKYVHyAM"
      },
      "source": [
        "## Lv1 모델링 3/8 모델선언(의사결정나무)"
      ]
    },
    {
      "cell_type": "code",
      "metadata": {
        "id": "nlxh3Oc7H4h-"
      },
      "source": [
        "model = DecisionTreeClassifier()"
      ],
      "execution_count": null,
      "outputs": []
    },
    {
      "cell_type": "markdown",
      "metadata": {
        "id": "TBtVngT_IJC1"
      },
      "source": [
        "## Lv1 모델링 4/6 모델훈련 (의사결정나무)"
      ]
    },
    {
      "cell_type": "markdown",
      "metadata": {
        "id": "epThBSJx5bzt"
      },
      "source": [
        "### 데이터 다운로드\n",
        "\n"
      ]
    },
    {
      "cell_type": "code",
      "metadata": {
        "id": "BiIsIfOG5l16"
      },
      "source": [
        "!wget 'https://bit.ly/3gLj0Q6'\n",
        "\n",
        "import zipfile\n",
        "with zipfile.ZipFile('3gLj0Q6', 'r') as existing_zip:\n",
        "    existing_zip.extractall('data')"
      ],
      "execution_count": null,
      "outputs": []
    },
    {
      "cell_type": "code",
      "metadata": {
        "id": "758Vca_I5w5y"
      },
      "source": [
        "import pandas as pd\n",
        "from sklearn.tree import DecisionTreeRegressor\n",
        "\n",
        "train = pd.read_csv('data/train.csv')\n",
        "test = pd.read_csv('data/test.csv')"
      ],
      "execution_count": null,
      "outputs": []
    },
    {
      "cell_type": "code",
      "metadata": {
        "id": "D-NZAv2h56W7"
      },
      "source": [
        "train.head()"
      ],
      "execution_count": null,
      "outputs": []
    },
    {
      "cell_type": "code",
      "metadata": {
        "id": "pBF0BSVz578S"
      },
      "source": [
        "train.info()"
      ],
      "execution_count": null,
      "outputs": []
    },
    {
      "cell_type": "code",
      "metadata": {
        "id": "SO3KVN1a5_0r"
      },
      "source": [
        "train.describe()"
      ],
      "execution_count": null,
      "outputs": []
    },
    {
      "cell_type": "markdown",
      "metadata": {
        "id": "sIkdKKlY6DMC"
      },
      "source": [
        "## 결측치 제거하기"
      ]
    },
    {
      "cell_type": "code",
      "metadata": {
        "id": "reIIkZXx6Hdd"
      },
      "source": [
        "test = test.dropna()\n",
        "train = train.dropna()\n",
        "\n",
        "print(train.isnull().sum())"
      ],
      "execution_count": null,
      "outputs": []
    },
    {
      "cell_type": "markdown",
      "metadata": {
        "id": "MfE1oqR06qL1"
      },
      "source": [
        "### 피처 데이터와 타깃 데이터 분리"
      ]
    },
    {
      "cell_type": "code",
      "metadata": {
        "id": "A-A1qbBK6MWi"
      },
      "source": [
        "X_train = train.drop(['count'], axis=1) # count만 제외\n",
        "Y_train = train['count'] # 예측해야할 데이터"
      ],
      "execution_count": null,
      "outputs": []
    },
    {
      "cell_type": "code",
      "metadata": {
        "id": "IX7pyEp86lDR"
      },
      "source": [
        "X_train.head()"
      ],
      "execution_count": null,
      "outputs": []
    },
    {
      "cell_type": "markdown",
      "metadata": {
        "id": "4XyWYYH86nFr"
      },
      "source": [
        "## 훈련"
      ]
    },
    {
      "cell_type": "code",
      "metadata": {
        "id": "_1h5lpVI61oO"
      },
      "source": [
        "model = DecisionTreeRegressor() # 결정트리회귀 모델\n",
        "model.fit(X_train, Y_train) # 훈련"
      ],
      "execution_count": null,
      "outputs": []
    },
    {
      "cell_type": "code",
      "metadata": {
        "id": "LlkUEQZM7ETc"
      },
      "source": [
        ""
      ],
      "execution_count": null,
      "outputs": []
    }
  ]
}